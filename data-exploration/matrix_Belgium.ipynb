{
 "cells": [
  {
   "cell_type": "markdown",
   "metadata": {},
   "source": [
    "# Heatmap matrix correlation between price and variables in Belgium\n",
    "We are analyzing property data in Belgium and generating correlation heatmaps for different property types.\n",
    "## Step 1: Import Required Libraries\n",
    "We begin by importing the necessary libraries:"
   ]
  },
  {
   "cell_type": "code",
   "execution_count": 1,
   "metadata": {},
   "outputs": [],
   "source": [
    "import pandas as pd\n",
    "import plotly.express as px\n",
    "import numpy as np\n"
   ]
  },
  {
   "cell_type": "markdown",
   "metadata": {},
   "source": [
    "## Step 2: Load the Data\n",
    "Next, we load the property data from a CSV file:"
   ]
  },
  {
   "cell_type": "code",
   "execution_count": 2,
   "metadata": {},
   "outputs": [],
   "source": [
    "df = pd.read_csv(\"../data/property_data.csv\")"
   ]
  },
  {
   "cell_type": "markdown",
   "metadata": {},
   "source": [
    "## Step 3: Data Cleaning\n",
    "3.1. Removing Duplicates\n",
    "\n",
    "To ensure each data point is unique, we remove duplicate entries:"
   ]
  },
  {
   "cell_type": "code",
   "execution_count": 3,
   "metadata": {},
   "outputs": [],
   "source": [
    "df = df.drop_duplicates()"
   ]
  },
  {
   "cell_type": "markdown",
   "metadata": {},
   "source": [
    "3.2. Removing Leading and Trailing Spaces\n",
    "To maintain data consistency, we strip leading and trailing spaces:"
   ]
  },
  {
   "cell_type": "code",
   "execution_count": 4,
   "metadata": {},
   "outputs": [],
   "source": [
    "df = df.applymap(lambda x: x.strip() if isinstance(x, str) else x)\n"
   ]
  },
  {
   "cell_type": "markdown",
   "metadata": {},
   "source": [
    "3.3. Filling Missing Values\n",
    "We replace missing values in numeric columns with '0' and in non-numeric columns with 'unknown':"
   ]
  },
  {
   "cell_type": "code",
   "execution_count": 5,
   "metadata": {},
   "outputs": [],
   "source": [
    "df.loc[:, df.dtypes == np.float64] = df.loc[:, df.dtypes == np.float64].fillna(0)\n",
    "df.loc[:, df.dtypes == np.int64] = df.loc[:, df.dtypes == np.int64].fillna(0)\n",
    "df.loc[:, df.dtypes == object] = df.loc[:, df.dtypes == object].fillna('unknown')"
   ]
  },
  {
   "cell_type": "markdown",
   "metadata": {},
   "source": [
    "## Step 4: Data Processing\n",
    "4.1. Ensure Correct Data Types\n",
    "We convert specific columns into appropriate data types:"
   ]
  },
  {
   "cell_type": "code",
   "execution_count": 6,
   "metadata": {},
   "outputs": [],
   "source": [
    "df['Zip code'] = df['Zip code'].astype(int)\n",
    "df['Subtype of property'] = df['Subtype of property'].astype(str)\n",
    "df['Type of Sale'] = df['Type of Sale'].astype(str)\n",
    "df['State of the building'] = df['State of the building'].astype(str)\n"
   ]
  },
  {
   "cell_type": "markdown",
   "metadata": {},
   "source": [
    "4.2. One-Hot Encoding\n",
    "\n",
    "We perform one-hot encoding on categorical variables, resulting in binary columns for each category:"
   ]
  },
  {
   "cell_type": "code",
   "execution_count": 7,
   "metadata": {},
   "outputs": [],
   "source": [
    "df_encoded = pd.get_dummies(df, columns=['Subtype of property', 'Type of Sale', 'State of the building'])"
   ]
  },
  {
   "cell_type": "markdown",
   "metadata": {},
   "source": [
    "## Step 6: Data Analysis\n",
    "We group the data by 'Type of property' and conduct an analysis for each group. We skip the groups where type_of_property is '0' or 'unknown'. Depending on the type of property ('apartment' or other), we select a different set of numeric columns. We then calculate a correlation matrix for these numeric columns and visualize this matrix using a heatmap:"
   ]
  },
  {
   "cell_type": "code",
   "execution_count": 8,
   "metadata": {},
   "outputs": [
    {
     "name": "stdout",
     "output_type": "stream",
     "text": [
      "Type of property: apartment\n"
     ]
    },
    {
     "data": {
      "application/vnd.plotly.v1+json": {
       "config": {
        "plotlyServerURL": "https://plot.ly"
       },
       "data": [
        {
         "coloraxis": "coloraxis",
         "hovertemplate": "x: %{x}<br>y: %{y}<br>color: %{z}<extra></extra>",
         "name": "0",
         "type": "heatmap",
         "x": [
          "Price of property in euro",
          "Kitchen",
          "Number of bedrooms",
          "Living area",
          "Terrace area",
          "Garden",
          "Garden area",
          "Number of facades",
          "Subtype of property_apartment",
          "Subtype of property_apartment block",
          "Subtype of property_bungalow",
          "Subtype of property_castle",
          "Subtype of property_chalet",
          "Subtype of property_country cottage",
          "Subtype of property_duplex",
          "Subtype of property_exceptional property",
          "Subtype of property_farmhouse",
          "Subtype of property_flat studio",
          "Subtype of property_ground floor",
          "Subtype of property_house",
          "Subtype of property_kot",
          "Subtype of property_loft",
          "Subtype of property_manor house",
          "Subtype of property_mansion",
          "Subtype of property_mixed use building",
          "Subtype of property_other property",
          "Subtype of property_penthouse",
          "Subtype of property_service flat",
          "Subtype of property_town house",
          "Subtype of property_triplex",
          "Subtype of property_unknown",
          "Subtype of property_villa",
          "Type of Sale_isLifeAnnuitySale",
          "Type of Sale_isNotarySale",
          "Type of Sale_isPublicSale",
          "Type of Sale_isUnderOption",
          "Type of Sale_unknown",
          "State of the building_as new",
          "State of the building_good",
          "State of the building_just renovated",
          "State of the building_to be done up",
          "State of the building_to renovate",
          "State of the building_to restore",
          "State of the building_unknown"
         ],
         "xaxis": "x",
         "y": [
          "Price of property in euro",
          "Kitchen",
          "Number of bedrooms",
          "Living area",
          "Terrace area",
          "Garden",
          "Garden area",
          "Number of facades",
          "Subtype of property_apartment",
          "Subtype of property_apartment block",
          "Subtype of property_bungalow",
          "Subtype of property_castle",
          "Subtype of property_chalet",
          "Subtype of property_country cottage",
          "Subtype of property_duplex",
          "Subtype of property_exceptional property",
          "Subtype of property_farmhouse",
          "Subtype of property_flat studio",
          "Subtype of property_ground floor",
          "Subtype of property_house",
          "Subtype of property_kot",
          "Subtype of property_loft",
          "Subtype of property_manor house",
          "Subtype of property_mansion",
          "Subtype of property_mixed use building",
          "Subtype of property_other property",
          "Subtype of property_penthouse",
          "Subtype of property_service flat",
          "Subtype of property_town house",
          "Subtype of property_triplex",
          "Subtype of property_unknown",
          "Subtype of property_villa",
          "Type of Sale_isLifeAnnuitySale",
          "Type of Sale_isNotarySale",
          "Type of Sale_isPublicSale",
          "Type of Sale_isUnderOption",
          "Type of Sale_unknown",
          "State of the building_as new",
          "State of the building_good",
          "State of the building_just renovated",
          "State of the building_to be done up",
          "State of the building_to renovate",
          "State of the building_to restore",
          "State of the building_unknown"
         ],
         "yaxis": "y",
         "z": [
          [
           1,
           0.04606067950308622,
           0.37060799450900483,
           0.5716667599150154,
           0.39023974597207545,
           0.02682903080073807,
           -0.0026277111372182004,
           0.10594310724760506,
           -0.1021528948360581,
           null,
           null,
           null,
           null,
           null,
           0.056610170289918924,
           null,
           null,
           -0.10429432891010447,
           -0.013061749167707328,
           null,
           -0.027531022834209887,
           0.0329915503371188,
           null,
           null,
           null,
           null,
           0.20670353221428986,
           -0.04105539917289824,
           null,
           0.03559600092992395,
           null,
           null,
           -0.038820212353484415,
           -0.006917677703608526,
           -0.02791095511989361,
           -0.13936169308444343,
           0.1460906142938187,
           0.2298344541539129,
           -0.17086494072705763,
           0.05725230435137696,
           -0.09080118262129384,
           -0.05571628505711957,
           -0.015995266142345886,
           -0.03629538113493503
          ],
          [
           0.04606067950308622,
           1,
           0.044728959067175236,
           0.023739452102161426,
           0.05372525139929211,
           -0.00021536454921570512,
           -0.011181953458287089,
           0.04853672648145483,
           -0.01960459151170584,
           null,
           null,
           null,
           null,
           null,
           -0.009362966070406771,
           null,
           null,
           -0.025373556537933793,
           0.03647295872615284,
           null,
           0.00967783419644911,
           0.020783376820015843,
           null,
           null,
           null,
           null,
           0.015631292292968633,
           0.014683043053785658,
           null,
           -0.003771710102864472,
           null,
           null,
           -0.002747497199762983,
           0.008002907118385177,
           0.004076795096933027,
           0.04095928547675425,
           -0.04108691054071265,
           0.138681324209631,
           0.028877256943605892,
           0.0036275703048251153,
           -0.07411461487993869,
           -0.1844909219398833,
           -0.05866972901685616,
           -0.0753339563394685
          ],
          [
           0.37060799450900483,
           0.044728959067175236,
           1,
           0.6661192060221808,
           0.22368613351294156,
           0.05567267121712586,
           0.02570647423040997,
           0.10259253734690334,
           0.015206208060335394,
           null,
           null,
           null,
           null,
           null,
           0.14617081572525065,
           null,
           null,
           -0.3737626789644082,
           -0.011995273763274398,
           null,
           -0.05388315447094844,
           0.048629220086681475,
           null,
           null,
           null,
           null,
           0.1147268142871421,
           -0.09136046543967265,
           null,
           0.09569594430746782,
           null,
           null,
           -0.013757090890781818,
           0.008051642972658831,
           -0.009493814072054843,
           -0.05035168649002251,
           0.052166864143439094,
           0.04253436765203962,
           -0.0551405358740046,
           -0.0014288500165108365,
           -0.003574581428310759,
           0.029780657737658648,
           -0.0011953498230465767,
           0.001796994625030343
          ],
          [
           0.5716667599150154,
           0.023739452102161426,
           0.6661192060221808,
           1,
           0.4000447273981138,
           0.09450186021938788,
           0.04570213734687461,
           0.11768915447440034,
           -0.12104488680889999,
           null,
           null,
           null,
           null,
           null,
           0.12443544034466933,
           null,
           null,
           -0.22427026370211747,
           -0.0027671411036043372,
           null,
           -0.05711228036723335,
           0.15453357170546617,
           null,
           null,
           null,
           null,
           0.1934127306893742,
           -0.06632227014298042,
           null,
           0.09644550789255255,
           null,
           null,
           -0.012850625851209881,
           0.006568467896780757,
           -0.02228647750369386,
           -0.07606124172120061,
           0.07895299788387564,
           0.10791120810203927,
           -0.0879620799737517,
           -0.006093109692682788,
           -0.038105554169999174,
           0.008600224845563404,
           0.0011344841870071776,
           -0.007787360580232581
          ],
          [
           0.39023974597207545,
           0.05372525139929211,
           0.22368613351294156,
           0.4000447273981138,
           1,
           0.08176042039873889,
           0.004518554549390218,
           0.11096938390766418,
           -0.18097397480849584,
           null,
           null,
           null,
           null,
           null,
           0.0005771233221580592,
           null,
           null,
           -0.07264575585339889,
           0.021676490583185014,
           null,
           -0.016844349964812984,
           0.055128533730516224,
           null,
           null,
           null,
           null,
           0.3257598030119282,
           -0.0027398909626915944,
           null,
           0.01501331330431863,
           null,
           null,
           -0.01662259212332012,
           -0.010050298191532945,
           -0.017177919476527317,
           -0.027243781228073347,
           0.03131054179124064,
           0.12271428867997379,
           -0.14038756256196142,
           0.006471349898327407,
           -0.052996928066033504,
           -0.04242209237397765,
           0.010215047405395609,
           0.06641663643754839
          ],
          [
           0.02682903080073807,
           -0.00021536454921570512,
           0.05567267121712586,
           0.09450186021938788,
           0.08176042039873889,
           1,
           0.11701489557033043,
           0.07982934118595844,
           -0.1450858932630544,
           null,
           null,
           null,
           null,
           null,
           0.04850848202934803,
           null,
           null,
           -0.04030938288992699,
           0.3264141995784469,
           null,
           0.000544922466681687,
           0.004149387833950787,
           null,
           null,
           null,
           null,
           -0.040328735305729994,
           -0.021077315659052787,
           null,
           0.010861902733719035,
           null,
           null,
           0.01677659898029602,
           -0.005468564448444419,
           -0.01160817789888917,
           0.027776204328736998,
           -0.02807286564922584,
           0.06103484900275843,
           -0.056553787639266065,
           -0.011023687252096024,
           -0.02014316588899765,
           0.011632995010718522,
           0.001684431481876343,
           0.004694223875893199
          ],
          [
           -0.0026277111372182004,
           -0.011181953458287089,
           0.02570647423040997,
           0.04570213734687461,
           0.004518554549390218,
           0.11701489557033043,
           1,
           -0.026127062291519284,
           0.010833357866193544,
           null,
           null,
           null,
           null,
           null,
           -0.006050477955101261,
           null,
           null,
           -0.005640663825263601,
           -0.0015648571286597218,
           null,
           -0.001154439895329852,
           -0.0026418579912110968,
           null,
           null,
           null,
           null,
           -0.003940266332088005,
           -0.0032256484079738715,
           null,
           -0.0015089336142265865,
           null,
           null,
           0.000014893487178859411,
           -0.0006399034978543479,
           -0.001358329724600337,
           0.010651486190175696,
           -0.010384934581475443,
           0.018013481066216377,
           -0.0186466722838176,
           -0.006440749784805753,
           -0.0069656104535380636,
           -0.004984895461641153,
           0.1644912070432428,
           -0.010603255750715197
          ],
          [
           0.10594310724760506,
           0.04853672648145483,
           0.10259253734690334,
           0.11768915447440034,
           0.11096938390766418,
           0.07982934118595844,
           -0.026127062291519284,
           1,
           -0.07615316966849467,
           null,
           null,
           null,
           null,
           null,
           0.037349845267317355,
           null,
           null,
           -0.03636671685065499,
           0.030032922114178254,
           null,
           0.02963382047943377,
           -0.0017853107182624686,
           null,
           null,
           null,
           null,
           0.06625525692144386,
           0.034078461749573664,
           null,
           0.03752280741876565,
           null,
           null,
           0.01121616823130901,
           -0.0030483733133012504,
           -0.037036003108058324,
           0.035191728456036575,
           -0.03220476758661815,
           -0.013051214364491226,
           -0.029765347715170972,
           0.025751409980531687,
           0.012439524745197827,
           -0.0026257959525527058,
           -0.001243911492319626,
           0.032637550008169404
          ],
          [
           -0.1021528948360581,
           -0.01960459151170584,
           0.015206208060335394,
           -0.12104488680889999,
           -0.18097397480849584,
           -0.1450858932630544,
           0.010833357866193544,
           -0.07615316966849467,
           1,
           null,
           null,
           null,
           null,
           null,
           -0.46276628370593653,
           null,
           null,
           -0.34132837400610594,
           -0.3854899587742272,
           null,
           -0.08593089544598478,
           -0.20335660032637803,
           null,
           null,
           null,
           null,
           -0.46136113204533963,
           -0.17416044202276454,
           null,
           -0.14529725198889193,
           null,
           null,
           -0.009359450887387122,
           0.011108983816286857,
           0.013019687639048816,
           -0.0029454284015485803,
           0.002137975597642282,
           -0.11471904490709289,
           0.036001727093867494,
           -0.0024910508357847555,
           0.06276132086790583,
           0.0231825561075111,
           0.008938686099686552,
           0.055511705558438706
          ],
          [
           null,
           null,
           null,
           null,
           null,
           null,
           null,
           null,
           null,
           null,
           null,
           null,
           null,
           null,
           null,
           null,
           null,
           null,
           null,
           null,
           null,
           null,
           null,
           null,
           null,
           null,
           null,
           null,
           null,
           null,
           null,
           null,
           null,
           null,
           null,
           null,
           null,
           null,
           null,
           null,
           null,
           null,
           null,
           null
          ],
          [
           null,
           null,
           null,
           null,
           null,
           null,
           null,
           null,
           null,
           null,
           null,
           null,
           null,
           null,
           null,
           null,
           null,
           null,
           null,
           null,
           null,
           null,
           null,
           null,
           null,
           null,
           null,
           null,
           null,
           null,
           null,
           null,
           null,
           null,
           null,
           null,
           null,
           null,
           null,
           null,
           null,
           null,
           null,
           null
          ],
          [
           null,
           null,
           null,
           null,
           null,
           null,
           null,
           null,
           null,
           null,
           null,
           null,
           null,
           null,
           null,
           null,
           null,
           null,
           null,
           null,
           null,
           null,
           null,
           null,
           null,
           null,
           null,
           null,
           null,
           null,
           null,
           null,
           null,
           null,
           null,
           null,
           null,
           null,
           null,
           null,
           null,
           null,
           null,
           null
          ],
          [
           null,
           null,
           null,
           null,
           null,
           null,
           null,
           null,
           null,
           null,
           null,
           null,
           null,
           null,
           null,
           null,
           null,
           null,
           null,
           null,
           null,
           null,
           null,
           null,
           null,
           null,
           null,
           null,
           null,
           null,
           null,
           null,
           null,
           null,
           null,
           null,
           null,
           null,
           null,
           null,
           null,
           null,
           null,
           null
          ],
          [
           null,
           null,
           null,
           null,
           null,
           null,
           null,
           null,
           null,
           null,
           null,
           null,
           null,
           null,
           null,
           null,
           null,
           null,
           null,
           null,
           null,
           null,
           null,
           null,
           null,
           null,
           null,
           null,
           null,
           null,
           null,
           null,
           null,
           null,
           null,
           null,
           null,
           null,
           null,
           null,
           null,
           null,
           null,
           null
          ],
          [
           0.056610170289918924,
           -0.009362966070406771,
           0.14617081572525065,
           0.12443544034466933,
           0.0005771233221580592,
           0.04850848202934803,
           -0.006050477955101261,
           0.037349845267317355,
           -0.46276628370593653,
           null,
           null,
           null,
           null,
           null,
           1,
           null,
           null,
           -0.05211502591154485,
           -0.05885774731930068,
           null,
           -0.013120183330230949,
           -0.0310490873375304,
           null,
           null,
           null,
           null,
           -0.07044198250770792,
           -0.026591331515322926,
           null,
           -0.02218441427357544,
           null,
           null,
           -0.01260428339981613,
           -0.005140863156412468,
           -0.010912563001878123,
           0.017477350265285043,
           -0.014399850358734569,
           0.03697530990603332,
           0.010925662552740892,
           -0.0069106788274639385,
           -0.03847582600648906,
           0.01030761340566121,
           -0.012604283399816178,
           -0.03774254405313097
          ],
          [
           null,
           null,
           null,
           null,
           null,
           null,
           null,
           null,
           null,
           null,
           null,
           null,
           null,
           null,
           null,
           null,
           null,
           null,
           null,
           null,
           null,
           null,
           null,
           null,
           null,
           null,
           null,
           null,
           null,
           null,
           null,
           null,
           null,
           null,
           null,
           null,
           null,
           null,
           null,
           null,
           null,
           null,
           null,
           null
          ],
          [
           null,
           null,
           null,
           null,
           null,
           null,
           null,
           null,
           null,
           null,
           null,
           null,
           null,
           null,
           null,
           null,
           null,
           null,
           null,
           null,
           null,
           null,
           null,
           null,
           null,
           null,
           null,
           null,
           null,
           null,
           null,
           null,
           null,
           null,
           null,
           null,
           null,
           null,
           null,
           null,
           null,
           null,
           null,
           null
          ],
          [
           -0.10429432891010447,
           -0.025373556537933793,
           -0.3737626789644082,
           -0.22427026370211747,
           -0.07264575585339889,
           -0.04030938288992699,
           -0.005640663825263601,
           -0.03636671685065499,
           -0.34132837400610594,
           null,
           null,
           null,
           null,
           null,
           -0.05211502591154485,
           null,
           null,
           1,
           -0.04341245224106521,
           null,
           -0.009677219366343182,
           -0.022901267591109248,
           null,
           null,
           null,
           null,
           -0.051956782932788215,
           -0.019613304314430258,
           null,
           -0.016362838691785682,
           null,
           null,
           -0.009296700537295895,
           -0.0037918113828733493,
           0.016111384268960117,
           0.034587539187526106,
           -0.03465744459814463,
           -0.0351973313832893,
           0.0537237069352875,
           0.0030320693596066553,
           0.013171935774746736,
           -0.005342322397381771,
           -0.009296700537295909,
           -0.028367954057661335
          ],
          [
           -0.013061749167707328,
           0.03647295872615284,
           -0.011995273763274398,
           -0.0027671411036043372,
           0.021676490583185014,
           0.3264141995784469,
           -0.0015648571286597218,
           0.030032922114178254,
           -0.3854899587742272,
           null,
           null,
           null,
           null,
           null,
           -0.05885774731930068,
           null,
           null,
           -0.04341245224106521,
           1,
           null,
           -0.010929272743419951,
           -0.025864268463706167,
           null,
           null,
           null,
           null,
           -0.05867903062299683,
           -0.022150903491723342,
           null,
           -0.01847988767735126,
           null,
           null,
           0.06438306773190595,
           -0.004282401713363979,
           -0.009090298083142746,
           0.004486410593482444,
           -0.011071355776876752,
           0.0693050222357815,
           -0.04223115153425579,
           -0.008613295662502497,
           -0.029712738998313802,
           -0.013593031815013572,
           -0.01049952180885619,
           -0.005603477231102999
          ],
          [
           null,
           null,
           null,
           null,
           null,
           null,
           null,
           null,
           null,
           null,
           null,
           null,
           null,
           null,
           null,
           null,
           null,
           null,
           null,
           null,
           null,
           null,
           null,
           null,
           null,
           null,
           null,
           null,
           null,
           null,
           null,
           null,
           null,
           null,
           null,
           null,
           null,
           null,
           null,
           null,
           null,
           null,
           null,
           null
          ],
          [
           -0.027531022834209887,
           0.00967783419644911,
           -0.05388315447094844,
           -0.05711228036723335,
           -0.016844349964812984,
           0.000544922466681687,
           -0.001154439895329852,
           0.02963382047943377,
           -0.08593089544598478,
           null,
           null,
           null,
           null,
           null,
           -0.013120183330230949,
           null,
           null,
           -0.009677219366343182,
           -0.010929272743419951,
           null,
           1,
           -0.005765493234139793,
           null,
           null,
           null,
           null,
           -0.013080344975443707,
           -0.004937734248730921,
           null,
           -0.004119415460017398,
           null,
           null,
           -0.0023404845969491866,
           -0.0009546049268284861,
           -0.002026349678832674,
           -0.013654186375101258,
           0.01407592864386224,
           0.03957202770072076,
           -0.025077319435997128,
           -0.012137413460650052,
           -0.012450819496120915,
           -0.009446475813929885,
           -0.002340484596949191,
           0.00010053089236630176
          ],
          [
           0.0329915503371188,
           0.020783376820015843,
           0.048629220086681475,
           0.15453357170546617,
           0.055128533730516224,
           0.004149387833950787,
           -0.0026418579912110968,
           -0.0017853107182624686,
           -0.20335660032637803,
           null,
           null,
           null,
           null,
           null,
           -0.0310490873375304,
           null,
           null,
           -0.022901267591109248,
           -0.025864268463706167,
           null,
           -0.005765493234139793,
           1,
           null,
           null,
           null,
           null,
           -0.030954809344148994,
           -0.011685213390662528,
           null,
           -0.00974865115664519,
           null,
           null,
           -0.005538787746614604,
           -0.0022590851819608466,
           -0.004795383309125224,
           0.011474457730495621,
           -0.010088476204493116,
           0.025517572283896537,
           -0.0017237008187861113,
           0.04124076539327424,
           -0.0021024525881914993,
           -0.022355209923230056,
           -0.005538787746614589,
           -0.045161448493344025
          ],
          [
           null,
           null,
           null,
           null,
           null,
           null,
           null,
           null,
           null,
           null,
           null,
           null,
           null,
           null,
           null,
           null,
           null,
           null,
           null,
           null,
           null,
           null,
           null,
           null,
           null,
           null,
           null,
           null,
           null,
           null,
           null,
           null,
           null,
           null,
           null,
           null,
           null,
           null,
           null,
           null,
           null,
           null,
           null,
           null
          ],
          [
           null,
           null,
           null,
           null,
           null,
           null,
           null,
           null,
           null,
           null,
           null,
           null,
           null,
           null,
           null,
           null,
           null,
           null,
           null,
           null,
           null,
           null,
           null,
           null,
           null,
           null,
           null,
           null,
           null,
           null,
           null,
           null,
           null,
           null,
           null,
           null,
           null,
           null,
           null,
           null,
           null,
           null,
           null,
           null
          ],
          [
           null,
           null,
           null,
           null,
           null,
           null,
           null,
           null,
           null,
           null,
           null,
           null,
           null,
           null,
           null,
           null,
           null,
           null,
           null,
           null,
           null,
           null,
           null,
           null,
           null,
           null,
           null,
           null,
           null,
           null,
           null,
           null,
           null,
           null,
           null,
           null,
           null,
           null,
           null,
           null,
           null,
           null,
           null,
           null
          ],
          [
           null,
           null,
           null,
           null,
           null,
           null,
           null,
           null,
           null,
           null,
           null,
           null,
           null,
           null,
           null,
           null,
           null,
           null,
           null,
           null,
           null,
           null,
           null,
           null,
           null,
           null,
           null,
           null,
           null,
           null,
           null,
           null,
           null,
           null,
           null,
           null,
           null,
           null,
           null,
           null,
           null,
           null,
           null,
           null
          ],
          [
           0.20670353221428986,
           0.015631292292968633,
           0.1147268142871421,
           0.1934127306893742,
           0.3257598030119282,
           -0.040328735305729994,
           -0.003940266332088005,
           0.06625525692144386,
           -0.46136113204533963,
           null,
           null,
           null,
           null,
           null,
           -0.07044198250770792,
           null,
           null,
           -0.051956782932788215,
           -0.05867903062299683,
           null,
           -0.013080344975443707,
           -0.030954809344148994,
           null,
           null,
           null,
           null,
           1,
           -0.026510589129907423,
           null,
           -0.022117053128968587,
           null,
           null,
           -0.012566011532626317,
           -0.005125253349355472,
           -0.010879427904176852,
           -0.032403720184707774,
           0.03503043622658444,
           0.10513805784550996,
           -0.06459166330856045,
           0.0032103396503389797,
           -0.03819666579437552,
           -0.022091758733743753,
           0.003392107101755951,
           -0.02462027909350168
          ],
          [
           -0.04105539917289824,
           0.014683043053785658,
           -0.09136046543967265,
           -0.06632227014298042,
           -0.0027398909626915944,
           -0.021077315659052787,
           -0.0032256484079738715,
           0.034078461749573664,
           -0.17416044202276454,
           null,
           null,
           null,
           null,
           null,
           -0.026591331515322926,
           null,
           null,
           -0.019613304314430258,
           -0.022150903491723342,
           null,
           -0.004937734248730921,
           -0.011685213390662528,
           null,
           null,
           null,
           null,
           -0.026510589129907423,
           1,
           null,
           -0.008349025268135529,
           null,
           null,
           -0.004743577148086039,
           -0.001934745531868269,
           -0.004106904203971933,
           -0.037787567485631585,
           0.038552731542873656,
           -0.008336081255415764,
           -0.010413215029124985,
           -0.008319547243023102,
           -0.025234698367051667,
           -0.019145644820442183,
           -0.004743577148086039,
           0.05705570333260981
          ],
          [
           null,
           null,
           null,
           null,
           null,
           null,
           null,
           null,
           null,
           null,
           null,
           null,
           null,
           null,
           null,
           null,
           null,
           null,
           null,
           null,
           null,
           null,
           null,
           null,
           null,
           null,
           null,
           null,
           null,
           null,
           null,
           null,
           null,
           null,
           null,
           null,
           null,
           null,
           null,
           null,
           null,
           null,
           null,
           null
          ],
          [
           0.03559600092992395,
           -0.003771710102864472,
           0.09569594430746782,
           0.09644550789255255,
           0.01501331330431863,
           0.010861902733719035,
           -0.0015089336142265865,
           0.03752280741876565,
           -0.14529725198889193,
           null,
           null,
           null,
           null,
           null,
           -0.02218441427357544,
           null,
           null,
           -0.016362838691785682,
           -0.01847988767735126,
           null,
           -0.004119415460017398,
           -0.00974865115664519,
           null,
           null,
           null,
           null,
           -0.022117053128968587,
           -0.008349025268135529,
           null,
           1,
           null,
           null,
           -0.003957435547413891,
           -0.0016141048208955552,
           -0.003426276874864311,
           0.006905229494696488,
           -0.005926409677753634,
           0.027590589125357164,
           -0.012452385384594446,
           -0.0010675070390575604,
           -0.011541597027842935,
           0.020680205119111568,
           0.04371896702717371,
           -0.02922262490857013
          ],
          [
           null,
           null,
           null,
           null,
           null,
           null,
           null,
           null,
           null,
           null,
           null,
           null,
           null,
           null,
           null,
           null,
           null,
           null,
           null,
           null,
           null,
           null,
           null,
           null,
           null,
           null,
           null,
           null,
           null,
           null,
           null,
           null,
           null,
           null,
           null,
           null,
           null,
           null,
           null,
           null,
           null,
           null,
           null,
           null
          ],
          [
           null,
           null,
           null,
           null,
           null,
           null,
           null,
           null,
           null,
           null,
           null,
           null,
           null,
           null,
           null,
           null,
           null,
           null,
           null,
           null,
           null,
           null,
           null,
           null,
           null,
           null,
           null,
           null,
           null,
           null,
           null,
           null,
           null,
           null,
           null,
           null,
           null,
           null,
           null,
           null,
           null,
           null,
           null,
           null
          ],
          [
           -0.038820212353484415,
           -0.002747497199762983,
           -0.013757090890781818,
           -0.012850625851209881,
           -0.01662259212332012,
           0.01677659898029602,
           0.000014893487178859411,
           0.01121616823130901,
           -0.009359450887387122,
           null,
           null,
           null,
           null,
           null,
           -0.01260428339981613,
           null,
           null,
           -0.009296700537295895,
           0.06438306773190595,
           null,
           -0.0023404845969491866,
           -0.005538787746614604,
           null,
           null,
           null,
           null,
           -0.012566011532626317,
           -0.004743577148086039,
           null,
           -0.003957435547413891,
           null,
           null,
           1,
           -0.0009170688190677278,
           -0.0019466713975165035,
           -0.022527747301306543,
           -0.09840261698133233,
           -0.004565686420272027,
           0.002142229309301188,
           -0.011660157114289561,
           -0.011961239682334658,
           0.012328116250288937,
           -0.002248454187745926,
           0.012758225691529294
          ],
          [
           -0.006917677703608526,
           0.008002907118385177,
           0.008051642972658831,
           0.006568467896780757,
           -0.010050298191532945,
           -0.005468564448444419,
           -0.0006399034978543479,
           -0.0030483733133012504,
           0.011108983816286857,
           null,
           null,
           null,
           null,
           null,
           -0.005140863156412468,
           null,
           null,
           -0.0037918113828733493,
           -0.004282401713363979,
           null,
           -0.0009546049268284861,
           -0.0022590851819608466,
           null,
           null,
           null,
           null,
           -0.005125253349355472,
           -0.001934745531868269,
           null,
           -0.0016141048208955552,
           null,
           null,
           -0.0009170688190677278,
           1,
           -0.0007939817717269473,
           -0.009188310229516604,
           -0.040135116935031766,
           -0.01514332817507759,
           -0.013035937460304934,
           -0.0047557858075221015,
           0.07667004787322584,
           -0.0037013994581826274,
           -0.000917068819067725,
           -0.008223425374350337
          ],
          [
           -0.02791095511989361,
           0.004076795096933027,
           -0.009493814072054843,
           -0.02228647750369386,
           -0.017177919476527317,
           -0.01160817789888917,
           -0.001358329724600337,
           -0.037036003108058324,
           0.013019687639048816,
           null,
           null,
           null,
           null,
           null,
           -0.010912563001878123,
           null,
           null,
           0.016111384268960117,
           -0.009090298083142746,
           null,
           -0.002026349678832674,
           -0.004795383309125224,
           null,
           null,
           null,
           null,
           -0.010879427904176852,
           -0.004106904203971933,
           null,
           -0.003426276874864311,
           null,
           null,
           -0.0019466713975165035,
           -0.0007939817717269473,
           1,
           -0.01950412045792971,
           -0.08519522477367797,
           -0.022747561991402376,
           0.03138092588071388,
           -0.010095155359910334,
           0.028111756080605104,
           -0.007856998631086473,
           -0.001946671397516505,
           -0.017455949469673365
          ],
          [
           -0.13936169308444343,
           0.04095928547675425,
           -0.05035168649002251,
           -0.07606124172120061,
           -0.027243781228073347,
           0.027776204328736998,
           0.010651486190175696,
           0.035191728456036575,
           -0.0029454284015485803,
           null,
           null,
           null,
           null,
           null,
           0.017477350265285043,
           null,
           null,
           0.034587539187526106,
           0.004486410593482444,
           null,
           -0.013654186375101258,
           0.011474457730495621,
           null,
           null,
           null,
           null,
           -0.032403720184707774,
           -0.037787567485631585,
           null,
           0.006905229494696488,
           null,
           null,
           -0.022527747301306543,
           -0.009188310229516604,
           -0.01950412045792971,
           1,
           -0.9859170363462196,
           -0.05203775280941947,
           0.07835407090072512,
           0.0079776242407936,
           0.05709349679598519,
           0.03970033495536147,
           -0.012333083992111232,
           -0.09217448926056777
          ],
          [
           0.1460906142938187,
           -0.04108691054071265,
           0.052166864143439094,
           0.07895299788387564,
           0.03131054179124064,
           -0.02807286564922584,
           -0.010384934581475443,
           -0.03220476758661815,
           0.002137975597642282,
           null,
           null,
           null,
           null,
           null,
           -0.014399850358734569,
           null,
           null,
           -0.03465744459814463,
           -0.011071355776876752,
           null,
           0.01407592864386224,
           -0.010088476204493116,
           null,
           null,
           null,
           null,
           0.03503043622658444,
           0.038552731542873656,
           null,
           -0.005926409677753634,
           null,
           null,
           -0.09840261698133233,
           -0.040135116935031766,
           -0.08519522477367797,
           -0.9859170363462196,
           1,
           0.05526169682870153,
           -0.0805633941527348,
           -0.00520320756371937,
           -0.06187704166074361,
           -0.03983366964942854,
           0.012745190370364826,
           0.09205034069215692
          ],
          [
           0.2298344541539129,
           0.138681324209631,
           0.04253436765203962,
           0.10791120810203927,
           0.12271428867997379,
           0.06103484900275843,
           0.018013481066216377,
           -0.013051214364491226,
           -0.11471904490709289,
           null,
           null,
           null,
           null,
           null,
           0.03697530990603332,
           null,
           null,
           -0.0351973313832893,
           0.0693050222357815,
           null,
           0.03957202770072076,
           0.025517572283896537,
           null,
           null,
           null,
           null,
           0.10513805784550996,
           -0.008336081255415764,
           null,
           0.027590589125357164,
           null,
           null,
           -0.004565686420272027,
           -0.01514332817507759,
           -0.022747561991402376,
           -0.05203775280941947,
           0.05526169682870153,
           1,
           -0.5277688951898721,
           -0.19254125980878203,
           -0.19751296099510898,
           -0.14985370316863575,
           -0.037128161969651914,
           -0.3329310329781003
          ],
          [
           -0.17086494072705763,
           0.028877256943605892,
           -0.0551405358740046,
           -0.0879620799737517,
           -0.14038756256196142,
           -0.056553787639266065,
           -0.0186466722838176,
           -0.029765347715170972,
           0.036001727093867494,
           null,
           null,
           null,
           null,
           null,
           0.010925662552740892,
           null,
           null,
           0.0537237069352875,
           -0.04223115153425579,
           null,
           -0.025077319435997128,
           -0.0017237008187861113,
           null,
           null,
           null,
           null,
           -0.06459166330856045,
           -0.010413215029124985,
           null,
           -0.012452385384594446,
           null,
           null,
           0.002142229309301188,
           -0.013035937460304934,
           0.03138092588071388,
           0.07835407090072512,
           -0.0805633941527348,
           -0.5277688951898721,
           1,
           -0.165746643827374,
           -0.17002646824819898,
           -0.1289996148875923,
           -0.031961296212876696,
           -0.28659935744112014
          ],
          [
           0.05725230435137696,
           0.0036275703048251153,
           -0.0014288500165108365,
           -0.006093109692682788,
           0.006471349898327407,
           -0.011023687252096024,
           -0.006440749784805753,
           0.025751409980531687,
           -0.0024910508357847555,
           null,
           null,
           null,
           null,
           null,
           -0.0069106788274639385,
           null,
           null,
           0.0030320693596066553,
           -0.008613295662502497,
           null,
           -0.012137413460650052,
           0.04124076539327424,
           null,
           null,
           null,
           null,
           0.0032103396503389797,
           -0.008319547243023102,
           null,
           -0.0010675070390575604,
           null,
           null,
           -0.011660157114289561,
           -0.0047557858075221015,
           -0.010095155359910334,
           0.0079776242407936,
           -0.00520320756371937,
           -0.19254125980878203,
           -0.165746643827374,
           1,
           -0.062029253136580864,
           -0.047061788960429625,
           -0.011660157114289553,
           -0.10455750963165118
          ],
          [
           -0.09080118262129384,
           -0.07411461487993869,
           -0.003574581428310759,
           -0.038105554169999174,
           -0.052996928066033504,
           -0.02014316588899765,
           -0.0069656104535380636,
           0.012439524745197827,
           0.06276132086790583,
           null,
           null,
           null,
           null,
           null,
           -0.03847582600648906,
           null,
           null,
           0.013171935774746736,
           -0.029712738998313802,
           null,
           -0.012450819496120915,
           -0.0021024525881914993,
           null,
           null,
           null,
           null,
           -0.03819666579437552,
           -0.025234698367051667,
           null,
           -0.011541597027842935,
           null,
           null,
           -0.011961239682334658,
           0.07667004787322584,
           0.028111756080605104,
           0.05709349679598519,
           -0.06187704166074361,
           -0.19751296099510898,
           -0.17002646824819898,
           -0.062029253136580864,
           1,
           -0.048276994222083994,
           -0.01196123968233467,
           -0.10725733976256024
          ],
          [
           -0.05571628505711957,
           -0.1844909219398833,
           0.029780657737658648,
           0.008600224845563404,
           -0.04242209237397765,
           0.011632995010718522,
           -0.004984895461641153,
           -0.0026257959525527058,
           0.0231825561075111,
           null,
           null,
           null,
           null,
           null,
           0.01030761340566121,
           null,
           null,
           -0.005342322397381771,
           -0.013593031815013572,
           null,
           -0.009446475813929885,
           -0.022355209923230056,
           null,
           null,
           null,
           null,
           -0.022091758733743753,
           -0.019145644820442183,
           null,
           0.020680205119111568,
           null,
           null,
           0.012328116250288937,
           -0.0037013994581826274,
           -0.007856998631086473,
           0.03970033495536147,
           -0.03983366964942854,
           -0.14985370316863575,
           -0.1289996148875923,
           -0.047061788960429625,
           -0.048276994222083994,
           1,
           -0.009075030073241,
           -0.08137648017860588
          ],
          [
           -0.015995266142345886,
           -0.05866972901685616,
           -0.0011953498230465767,
           0.0011344841870071776,
           0.010215047405395609,
           0.001684431481876343,
           0.1644912070432428,
           -0.001243911492319626,
           0.008938686099686552,
           null,
           null,
           null,
           null,
           null,
           -0.012604283399816178,
           null,
           null,
           -0.009296700537295909,
           -0.01049952180885619,
           null,
           -0.002340484596949191,
           -0.005538787746614589,
           null,
           null,
           null,
           null,
           0.003392107101755951,
           -0.004743577148086039,
           null,
           0.04371896702717371,
           null,
           null,
           -0.002248454187745926,
           -0.000917068819067725,
           -0.001946671397516505,
           -0.012333083992111232,
           0.012745190370364826,
           -0.037128161969651914,
           -0.031961296212876696,
           -0.011660157114289553,
           -0.01196123968233467,
           -0.009075030073241,
           1,
           -0.020162058545803233
          ],
          [
           -0.03629538113493503,
           -0.0753339563394685,
           0.001796994625030343,
           -0.007787360580232581,
           0.06641663643754839,
           0.004694223875893199,
           -0.010603255750715197,
           0.032637550008169404,
           0.055511705558438706,
           null,
           null,
           null,
           null,
           null,
           -0.03774254405313097,
           null,
           null,
           -0.028367954057661335,
           -0.005603477231102999,
           null,
           0.00010053089236630176,
           -0.045161448493344025,
           null,
           null,
           null,
           null,
           -0.02462027909350168,
           0.05705570333260981,
           null,
           -0.02922262490857013,
           null,
           null,
           0.012758225691529294,
           -0.008223425374350337,
           -0.017455949469673365,
           -0.09217448926056777,
           0.09205034069215692,
           -0.3329310329781003,
           -0.28659935744112014,
           -0.10455750963165118,
           -0.10725733976256024,
           -0.08137648017860588,
           -0.020162058545803233,
           1
          ]
         ]
        }
       ],
       "layout": {
        "coloraxis": {
         "cmax": 1,
         "cmin": -1,
         "colorscale": [
          [
           0,
           "#0d0887"
          ],
          [
           0.1111111111111111,
           "#46039f"
          ],
          [
           0.2222222222222222,
           "#7201a8"
          ],
          [
           0.3333333333333333,
           "#9c179e"
          ],
          [
           0.4444444444444444,
           "#bd3786"
          ],
          [
           0.5555555555555556,
           "#d8576b"
          ],
          [
           0.6666666666666666,
           "#ed7953"
          ],
          [
           0.7777777777777778,
           "#fb9f3a"
          ],
          [
           0.8888888888888888,
           "#fdca26"
          ],
          [
           1,
           "#f0f921"
          ]
         ]
        },
        "template": {
         "data": {
          "bar": [
           {
            "error_x": {
             "color": "#2a3f5f"
            },
            "error_y": {
             "color": "#2a3f5f"
            },
            "marker": {
             "line": {
              "color": "#E5ECF6",
              "width": 0.5
             },
             "pattern": {
              "fillmode": "overlay",
              "size": 10,
              "solidity": 0.2
             }
            },
            "type": "bar"
           }
          ],
          "barpolar": [
           {
            "marker": {
             "line": {
              "color": "#E5ECF6",
              "width": 0.5
             },
             "pattern": {
              "fillmode": "overlay",
              "size": 10,
              "solidity": 0.2
             }
            },
            "type": "barpolar"
           }
          ],
          "carpet": [
           {
            "aaxis": {
             "endlinecolor": "#2a3f5f",
             "gridcolor": "white",
             "linecolor": "white",
             "minorgridcolor": "white",
             "startlinecolor": "#2a3f5f"
            },
            "baxis": {
             "endlinecolor": "#2a3f5f",
             "gridcolor": "white",
             "linecolor": "white",
             "minorgridcolor": "white",
             "startlinecolor": "#2a3f5f"
            },
            "type": "carpet"
           }
          ],
          "choropleth": [
           {
            "colorbar": {
             "outlinewidth": 0,
             "ticks": ""
            },
            "type": "choropleth"
           }
          ],
          "contour": [
           {
            "colorbar": {
             "outlinewidth": 0,
             "ticks": ""
            },
            "colorscale": [
             [
              0,
              "#0d0887"
             ],
             [
              0.1111111111111111,
              "#46039f"
             ],
             [
              0.2222222222222222,
              "#7201a8"
             ],
             [
              0.3333333333333333,
              "#9c179e"
             ],
             [
              0.4444444444444444,
              "#bd3786"
             ],
             [
              0.5555555555555556,
              "#d8576b"
             ],
             [
              0.6666666666666666,
              "#ed7953"
             ],
             [
              0.7777777777777778,
              "#fb9f3a"
             ],
             [
              0.8888888888888888,
              "#fdca26"
             ],
             [
              1,
              "#f0f921"
             ]
            ],
            "type": "contour"
           }
          ],
          "contourcarpet": [
           {
            "colorbar": {
             "outlinewidth": 0,
             "ticks": ""
            },
            "type": "contourcarpet"
           }
          ],
          "heatmap": [
           {
            "colorbar": {
             "outlinewidth": 0,
             "ticks": ""
            },
            "colorscale": [
             [
              0,
              "#0d0887"
             ],
             [
              0.1111111111111111,
              "#46039f"
             ],
             [
              0.2222222222222222,
              "#7201a8"
             ],
             [
              0.3333333333333333,
              "#9c179e"
             ],
             [
              0.4444444444444444,
              "#bd3786"
             ],
             [
              0.5555555555555556,
              "#d8576b"
             ],
             [
              0.6666666666666666,
              "#ed7953"
             ],
             [
              0.7777777777777778,
              "#fb9f3a"
             ],
             [
              0.8888888888888888,
              "#fdca26"
             ],
             [
              1,
              "#f0f921"
             ]
            ],
            "type": "heatmap"
           }
          ],
          "heatmapgl": [
           {
            "colorbar": {
             "outlinewidth": 0,
             "ticks": ""
            },
            "colorscale": [
             [
              0,
              "#0d0887"
             ],
             [
              0.1111111111111111,
              "#46039f"
             ],
             [
              0.2222222222222222,
              "#7201a8"
             ],
             [
              0.3333333333333333,
              "#9c179e"
             ],
             [
              0.4444444444444444,
              "#bd3786"
             ],
             [
              0.5555555555555556,
              "#d8576b"
             ],
             [
              0.6666666666666666,
              "#ed7953"
             ],
             [
              0.7777777777777778,
              "#fb9f3a"
             ],
             [
              0.8888888888888888,
              "#fdca26"
             ],
             [
              1,
              "#f0f921"
             ]
            ],
            "type": "heatmapgl"
           }
          ],
          "histogram": [
           {
            "marker": {
             "pattern": {
              "fillmode": "overlay",
              "size": 10,
              "solidity": 0.2
             }
            },
            "type": "histogram"
           }
          ],
          "histogram2d": [
           {
            "colorbar": {
             "outlinewidth": 0,
             "ticks": ""
            },
            "colorscale": [
             [
              0,
              "#0d0887"
             ],
             [
              0.1111111111111111,
              "#46039f"
             ],
             [
              0.2222222222222222,
              "#7201a8"
             ],
             [
              0.3333333333333333,
              "#9c179e"
             ],
             [
              0.4444444444444444,
              "#bd3786"
             ],
             [
              0.5555555555555556,
              "#d8576b"
             ],
             [
              0.6666666666666666,
              "#ed7953"
             ],
             [
              0.7777777777777778,
              "#fb9f3a"
             ],
             [
              0.8888888888888888,
              "#fdca26"
             ],
             [
              1,
              "#f0f921"
             ]
            ],
            "type": "histogram2d"
           }
          ],
          "histogram2dcontour": [
           {
            "colorbar": {
             "outlinewidth": 0,
             "ticks": ""
            },
            "colorscale": [
             [
              0,
              "#0d0887"
             ],
             [
              0.1111111111111111,
              "#46039f"
             ],
             [
              0.2222222222222222,
              "#7201a8"
             ],
             [
              0.3333333333333333,
              "#9c179e"
             ],
             [
              0.4444444444444444,
              "#bd3786"
             ],
             [
              0.5555555555555556,
              "#d8576b"
             ],
             [
              0.6666666666666666,
              "#ed7953"
             ],
             [
              0.7777777777777778,
              "#fb9f3a"
             ],
             [
              0.8888888888888888,
              "#fdca26"
             ],
             [
              1,
              "#f0f921"
             ]
            ],
            "type": "histogram2dcontour"
           }
          ],
          "mesh3d": [
           {
            "colorbar": {
             "outlinewidth": 0,
             "ticks": ""
            },
            "type": "mesh3d"
           }
          ],
          "parcoords": [
           {
            "line": {
             "colorbar": {
              "outlinewidth": 0,
              "ticks": ""
             }
            },
            "type": "parcoords"
           }
          ],
          "pie": [
           {
            "automargin": true,
            "type": "pie"
           }
          ],
          "scatter": [
           {
            "fillpattern": {
             "fillmode": "overlay",
             "size": 10,
             "solidity": 0.2
            },
            "type": "scatter"
           }
          ],
          "scatter3d": [
           {
            "line": {
             "colorbar": {
              "outlinewidth": 0,
              "ticks": ""
             }
            },
            "marker": {
             "colorbar": {
              "outlinewidth": 0,
              "ticks": ""
             }
            },
            "type": "scatter3d"
           }
          ],
          "scattercarpet": [
           {
            "marker": {
             "colorbar": {
              "outlinewidth": 0,
              "ticks": ""
             }
            },
            "type": "scattercarpet"
           }
          ],
          "scattergeo": [
           {
            "marker": {
             "colorbar": {
              "outlinewidth": 0,
              "ticks": ""
             }
            },
            "type": "scattergeo"
           }
          ],
          "scattergl": [
           {
            "marker": {
             "colorbar": {
              "outlinewidth": 0,
              "ticks": ""
             }
            },
            "type": "scattergl"
           }
          ],
          "scattermapbox": [
           {
            "marker": {
             "colorbar": {
              "outlinewidth": 0,
              "ticks": ""
             }
            },
            "type": "scattermapbox"
           }
          ],
          "scatterpolar": [
           {
            "marker": {
             "colorbar": {
              "outlinewidth": 0,
              "ticks": ""
             }
            },
            "type": "scatterpolar"
           }
          ],
          "scatterpolargl": [
           {
            "marker": {
             "colorbar": {
              "outlinewidth": 0,
              "ticks": ""
             }
            },
            "type": "scatterpolargl"
           }
          ],
          "scatterternary": [
           {
            "marker": {
             "colorbar": {
              "outlinewidth": 0,
              "ticks": ""
             }
            },
            "type": "scatterternary"
           }
          ],
          "surface": [
           {
            "colorbar": {
             "outlinewidth": 0,
             "ticks": ""
            },
            "colorscale": [
             [
              0,
              "#0d0887"
             ],
             [
              0.1111111111111111,
              "#46039f"
             ],
             [
              0.2222222222222222,
              "#7201a8"
             ],
             [
              0.3333333333333333,
              "#9c179e"
             ],
             [
              0.4444444444444444,
              "#bd3786"
             ],
             [
              0.5555555555555556,
              "#d8576b"
             ],
             [
              0.6666666666666666,
              "#ed7953"
             ],
             [
              0.7777777777777778,
              "#fb9f3a"
             ],
             [
              0.8888888888888888,
              "#fdca26"
             ],
             [
              1,
              "#f0f921"
             ]
            ],
            "type": "surface"
           }
          ],
          "table": [
           {
            "cells": {
             "fill": {
              "color": "#EBF0F8"
             },
             "line": {
              "color": "white"
             }
            },
            "header": {
             "fill": {
              "color": "#C8D4E3"
             },
             "line": {
              "color": "white"
             }
            },
            "type": "table"
           }
          ]
         },
         "layout": {
          "annotationdefaults": {
           "arrowcolor": "#2a3f5f",
           "arrowhead": 0,
           "arrowwidth": 1
          },
          "autotypenumbers": "strict",
          "coloraxis": {
           "colorbar": {
            "outlinewidth": 0,
            "ticks": ""
           }
          },
          "colorscale": {
           "diverging": [
            [
             0,
             "#8e0152"
            ],
            [
             0.1,
             "#c51b7d"
            ],
            [
             0.2,
             "#de77ae"
            ],
            [
             0.3,
             "#f1b6da"
            ],
            [
             0.4,
             "#fde0ef"
            ],
            [
             0.5,
             "#f7f7f7"
            ],
            [
             0.6,
             "#e6f5d0"
            ],
            [
             0.7,
             "#b8e186"
            ],
            [
             0.8,
             "#7fbc41"
            ],
            [
             0.9,
             "#4d9221"
            ],
            [
             1,
             "#276419"
            ]
           ],
           "sequential": [
            [
             0,
             "#0d0887"
            ],
            [
             0.1111111111111111,
             "#46039f"
            ],
            [
             0.2222222222222222,
             "#7201a8"
            ],
            [
             0.3333333333333333,
             "#9c179e"
            ],
            [
             0.4444444444444444,
             "#bd3786"
            ],
            [
             0.5555555555555556,
             "#d8576b"
            ],
            [
             0.6666666666666666,
             "#ed7953"
            ],
            [
             0.7777777777777778,
             "#fb9f3a"
            ],
            [
             0.8888888888888888,
             "#fdca26"
            ],
            [
             1,
             "#f0f921"
            ]
           ],
           "sequentialminus": [
            [
             0,
             "#0d0887"
            ],
            [
             0.1111111111111111,
             "#46039f"
            ],
            [
             0.2222222222222222,
             "#7201a8"
            ],
            [
             0.3333333333333333,
             "#9c179e"
            ],
            [
             0.4444444444444444,
             "#bd3786"
            ],
            [
             0.5555555555555556,
             "#d8576b"
            ],
            [
             0.6666666666666666,
             "#ed7953"
            ],
            [
             0.7777777777777778,
             "#fb9f3a"
            ],
            [
             0.8888888888888888,
             "#fdca26"
            ],
            [
             1,
             "#f0f921"
            ]
           ]
          },
          "colorway": [
           "#636efa",
           "#EF553B",
           "#00cc96",
           "#ab63fa",
           "#FFA15A",
           "#19d3f3",
           "#FF6692",
           "#B6E880",
           "#FF97FF",
           "#FECB52"
          ],
          "font": {
           "color": "#2a3f5f"
          },
          "geo": {
           "bgcolor": "white",
           "lakecolor": "white",
           "landcolor": "#E5ECF6",
           "showlakes": true,
           "showland": true,
           "subunitcolor": "white"
          },
          "hoverlabel": {
           "align": "left"
          },
          "hovermode": "closest",
          "mapbox": {
           "style": "light"
          },
          "paper_bgcolor": "white",
          "plot_bgcolor": "#E5ECF6",
          "polar": {
           "angularaxis": {
            "gridcolor": "white",
            "linecolor": "white",
            "ticks": ""
           },
           "bgcolor": "#E5ECF6",
           "radialaxis": {
            "gridcolor": "white",
            "linecolor": "white",
            "ticks": ""
           }
          },
          "scene": {
           "xaxis": {
            "backgroundcolor": "#E5ECF6",
            "gridcolor": "white",
            "gridwidth": 2,
            "linecolor": "white",
            "showbackground": true,
            "ticks": "",
            "zerolinecolor": "white"
           },
           "yaxis": {
            "backgroundcolor": "#E5ECF6",
            "gridcolor": "white",
            "gridwidth": 2,
            "linecolor": "white",
            "showbackground": true,
            "ticks": "",
            "zerolinecolor": "white"
           },
           "zaxis": {
            "backgroundcolor": "#E5ECF6",
            "gridcolor": "white",
            "gridwidth": 2,
            "linecolor": "white",
            "showbackground": true,
            "ticks": "",
            "zerolinecolor": "white"
           }
          },
          "shapedefaults": {
           "line": {
            "color": "#2a3f5f"
           }
          },
          "ternary": {
           "aaxis": {
            "gridcolor": "white",
            "linecolor": "white",
            "ticks": ""
           },
           "baxis": {
            "gridcolor": "white",
            "linecolor": "white",
            "ticks": ""
           },
           "bgcolor": "#E5ECF6",
           "caxis": {
            "gridcolor": "white",
            "linecolor": "white",
            "ticks": ""
           }
          },
          "title": {
           "x": 0.05
          },
          "xaxis": {
           "automargin": true,
           "gridcolor": "white",
           "linecolor": "white",
           "ticks": "",
           "title": {
            "standoff": 15
           },
           "zerolinecolor": "white",
           "zerolinewidth": 2
          },
          "yaxis": {
           "automargin": true,
           "gridcolor": "white",
           "linecolor": "white",
           "ticks": "",
           "title": {
            "standoff": 15
           },
           "zerolinecolor": "white",
           "zerolinewidth": 2
          }
         }
        },
        "title": {
         "text": "Correlation matrix between price and variables for apartment in Belgium"
        },
        "xaxis": {
         "anchor": "y",
         "constrain": "domain",
         "domain": [
          0,
          1
         ],
         "scaleanchor": "y"
        },
        "yaxis": {
         "anchor": "x",
         "autorange": "reversed",
         "constrain": "domain",
         "domain": [
          0,
          1
         ]
        }
       }
      }
     },
     "metadata": {},
     "output_type": "display_data"
    },
    {
     "name": "stdout",
     "output_type": "stream",
     "text": [
      "Type of property: house\n"
     ]
    },
    {
     "data": {
      "application/vnd.plotly.v1+json": {
       "config": {
        "plotlyServerURL": "https://plot.ly"
       },
       "data": [
        {
         "coloraxis": "coloraxis",
         "hovertemplate": "x: %{x}<br>y: %{y}<br>color: %{z}<extra></extra>",
         "name": "0",
         "type": "heatmap",
         "x": [
          "Price of property in euro",
          "Kitchen",
          "Number of bedrooms",
          "Living area",
          "Terrace area",
          "Garden",
          "Garden area",
          "Surface of the land(or plot of land)",
          "Number of facades",
          "Swimming pool",
          "Subtype of property_apartment",
          "Subtype of property_apartment block",
          "Subtype of property_bungalow",
          "Subtype of property_castle",
          "Subtype of property_chalet",
          "Subtype of property_country cottage",
          "Subtype of property_duplex",
          "Subtype of property_exceptional property",
          "Subtype of property_farmhouse",
          "Subtype of property_flat studio",
          "Subtype of property_ground floor",
          "Subtype of property_house",
          "Subtype of property_kot",
          "Subtype of property_loft",
          "Subtype of property_manor house",
          "Subtype of property_mansion",
          "Subtype of property_mixed use building",
          "Subtype of property_other property",
          "Subtype of property_penthouse",
          "Subtype of property_service flat",
          "Subtype of property_town house",
          "Subtype of property_triplex",
          "Subtype of property_unknown",
          "Subtype of property_villa",
          "Type of Sale_isLifeAnnuitySale",
          "Type of Sale_isNotarySale",
          "Type of Sale_isPublicSale",
          "Type of Sale_isUnderOption",
          "Type of Sale_unknown",
          "State of the building_as new",
          "State of the building_good",
          "State of the building_just renovated",
          "State of the building_to be done up",
          "State of the building_to renovate",
          "State of the building_to restore",
          "State of the building_unknown"
         ],
         "xaxis": "x",
         "y": [
          "Price of property in euro",
          "Kitchen",
          "Number of bedrooms",
          "Living area",
          "Terrace area",
          "Garden",
          "Garden area",
          "Surface of the land(or plot of land)",
          "Number of facades",
          "Swimming pool",
          "Subtype of property_apartment",
          "Subtype of property_apartment block",
          "Subtype of property_bungalow",
          "Subtype of property_castle",
          "Subtype of property_chalet",
          "Subtype of property_country cottage",
          "Subtype of property_duplex",
          "Subtype of property_exceptional property",
          "Subtype of property_farmhouse",
          "Subtype of property_flat studio",
          "Subtype of property_ground floor",
          "Subtype of property_house",
          "Subtype of property_kot",
          "Subtype of property_loft",
          "Subtype of property_manor house",
          "Subtype of property_mansion",
          "Subtype of property_mixed use building",
          "Subtype of property_other property",
          "Subtype of property_penthouse",
          "Subtype of property_service flat",
          "Subtype of property_town house",
          "Subtype of property_triplex",
          "Subtype of property_unknown",
          "Subtype of property_villa",
          "Type of Sale_isLifeAnnuitySale",
          "Type of Sale_isNotarySale",
          "Type of Sale_isPublicSale",
          "Type of Sale_isUnderOption",
          "Type of Sale_unknown",
          "State of the building_as new",
          "State of the building_good",
          "State of the building_just renovated",
          "State of the building_to be done up",
          "State of the building_to renovate",
          "State of the building_to restore",
          "State of the building_unknown"
         ],
         "yaxis": "y",
         "z": [
          [
           1,
           0.06553020191530327,
           0.4226077912078224,
           0.6503084112449112,
           0.12953555104074385,
           0.04400423677281246,
           0.13034215941508237,
           0.23987512274315081,
           0.1401936847742583,
           0.32346707624989124,
           null,
           0.06269201246065338,
           -0.03133852143186334,
           0.1290411865107463,
           -0.01707436485201404,
           -0.009410934827495816,
           null,
           0.21024896768669304,
           -0.006633196129119487,
           null,
           null,
           -0.28574434339742116,
           null,
           null,
           0.03645044541700767,
           0.10414451818460192,
           0.005103495631891047,
           0.023324043985890698,
           null,
           null,
           -0.025108934149320757,
           null,
           null,
           0.20429122116782214,
           -0.03996079286049927,
           -0.01163478310297539,
           -0.019751538765147295,
           -0.15507522321939043,
           0.16079205896159737,
           0.240636329385252,
           -0.03859299897139638,
           0.009788052337387559,
           -0.08221592958415559,
           -0.11898937746769431,
           -0.034502164368181175,
           -0.029852706436701917
          ],
          [
           0.06553020191530327,
           1,
           0.022826255935568255,
           0.010717177308805658,
           0.06563592204994424,
           0.06445123564954332,
           0.027766951116277996,
           0.002734297234475495,
           0.0020790228709666693,
           0.05307868662075743,
           null,
           -0.057453414372150326,
           -0.011716584983387563,
           0.01893126963143093,
           -0.01451737864761993,
           0.0016583256627827675,
           null,
           0.028906254980961874,
           -0.03628917178137025,
           null,
           null,
           -0.009893615672256016,
           null,
           null,
           -0.022414985173624676,
           0.01716408864235408,
           -0.018519842054679343,
           -0.011912136494908137,
           null,
           null,
           0.0031723751645794953,
           null,
           null,
           0.053223425437609065,
           0.013440949380136617,
           0.010924333311101698,
           -0.008694465341610403,
           0.017225483914729764,
           -0.018473941762146263,
           0.13952216512646057,
           0.14164455453271607,
           0.027301717575979028,
           -0.02380712147883214,
           -0.2573687632917247,
           -0.04093829374394944,
           -0.1235977099963647
          ],
          [
           0.4226077912078224,
           0.022826255935568255,
           1,
           0.5390149995434188,
           0.11761757283389261,
           0.059300208944733764,
           0.08753416444775647,
           0.1151861559380577,
           0.05201423057430678,
           0.10979946438961216,
           null,
           0.20247416532228854,
           -0.052519874048791444,
           0.1202913887103939,
           -0.008272956061971152,
           -0.0032227620034438243,
           null,
           0.10711472540722027,
           0.00024030139203293837,
           null,
           null,
           -0.2292916210990503,
           null,
           null,
           0.028193154333201544,
           0.11381514037085244,
           0.021500351663954826,
           0.11445052795156162,
           null,
           null,
           -0.042296180838353604,
           null,
           null,
           0.06835136363740643,
           -0.0321697165262895,
           0.005905954707385444,
           -0.01357885788345415,
           -0.07061912053915048,
           0.07452252935072198,
           0.09731543012935975,
           -0.0050281322316876875,
           -0.013962797725639195,
           -0.04518412301504599,
           -0.04287311935083576,
           -0.030551922109152252,
           -0.0025521640481163945
          ],
          [
           0.6503084112449112,
           0.010717177308805658,
           0.5390149995434188,
           1,
           0.1298301864387283,
           0.009279905669706464,
           0.17027190714213186,
           0.17461265204448312,
           0.09714062952118069,
           0.26262667479084856,
           null,
           0.12162310455631521,
           -0.04605486160384291,
           0.1530371335251917,
           -0.02260456443712746,
           0.01850357748936414,
           null,
           0.15118565696889869,
           0.0497560399583108,
           null,
           null,
           -0.32941332557043124,
           null,
           null,
           0.02671668636674893,
           0.1416381302463375,
           0.11949691095873821,
           0.03178080036069195,
           null,
           null,
           -0.040239505637596415,
           null,
           null,
           0.16171718225635898,
           -0.02758122611694691,
           0.000369210765980885,
           0.07509603598573182,
           -0.16457517453069098,
           0.16069240278262395,
           0.13044056190492964,
           0.0150037533354623,
           -0.022270218609499473,
           -0.05359755161367786,
           -0.07944990302328646,
           -0.027440288689646857,
           -0.02488082673238147
          ],
          [
           0.12953555104074385,
           0.06563592204994424,
           0.11761757283389261,
           0.1298301864387283,
           1,
           0.21541567213924803,
           0.13550343992452543,
           0.03495115365025458,
           0.09199329047319017,
           0.13423783538641335,
           null,
           0.014688963785908749,
           0.008234399897155116,
           -0.0019342737180142683,
           -0.0043605689983609325,
           -0.02070689749579295,
           null,
           0.06357115708085619,
           0.004643022550766049,
           null,
           null,
           -0.055075497735237885,
           null,
           null,
           -0.0218952264727235,
           -0.013226347030071351,
           -0.022742357932698624,
           -0.015549446818300847,
           null,
           null,
           -0.0018217309630235892,
           null,
           null,
           0.06575615671006083,
           -0.009054502543520974,
           -0.009028508988804852,
           -0.01053661524011502,
           0.041204192916653185,
           -0.03868862048301591,
           0.11103500273506237,
           -0.012876151738775788,
           0.020003846748730472,
           -0.03492537741120419,
           -0.05824577084556572,
           -0.0013526356307071636,
           -0.04056512314240895
          ],
          [
           0.04400423677281246,
           0.06445123564954332,
           0.059300208944733764,
           0.009279905669706464,
           0.21541567213924803,
           1,
           0.21914769953321453,
           -0.0013386500925776082,
           0.06432650006554773,
           0.021187672776068468,
           null,
           -0.03614200834644635,
           -0.003312278428057556,
           -0.007795311260900325,
           0.01022770281084549,
           -0.014660196127045434,
           null,
           0.016572124207064873,
           0.0036182186273431404,
           null,
           null,
           0.0245301063726284,
           null,
           null,
           -0.03506728385252094,
           0.015211241627738827,
           -0.056092920675464696,
           -0.036144382242615604,
           null,
           null,
           0.0634929677490225,
           null,
           null,
           0.0030116518798050484,
           -0.011821991465401605,
           0.010788569085660137,
           -0.01021065195949949,
           0.1365550156949648,
           -0.13429904425365194,
           0.10967524797704854,
           -0.030602141757072807,
           0.017518585305653887,
           -0.01954909241802389,
           -0.009383947875174313,
           -0.0074467589234345115,
           -0.08509176535262743
          ],
          [
           0.13034215941508237,
           0.027766951116277996,
           0.08753416444775647,
           0.17027190714213186,
           0.13550343992452543,
           0.21914769953321453,
           1,
           0.1998607391715439,
           0.1369311052313811,
           0.14964531120711153,
           null,
           -0.03505937976654795,
           0.00014769306286903464,
           0.24987947935228827,
           0.004131544453425544,
           0.04001173689477128,
           null,
           0.098429811391465,
           0.10346821753444188,
           null,
           null,
           -0.08299188477711729,
           null,
           null,
           -0.008636571674521917,
           -0.014124407004877576,
           -0.017056363412218212,
           -0.007920958219518345,
           null,
           null,
           -0.012516623968768611,
           null,
           null,
           0.05549070373181597,
           0.0012392641148272314,
           0.0022090424549773154,
           -0.005332842794920283,
           -0.005906331486159942,
           0.006050808049503795,
           0.03753795379004188,
           0.008036903745868384,
           -0.008738403390420688,
           -0.02588349987018736,
           -0.006556508116721315,
           -0.008831602373931744,
           -0.019544025213215924
          ],
          [
           0.23987512274315081,
           0.002734297234475495,
           0.1151861559380577,
           0.17461265204448312,
           0.03495115365025458,
           -0.0013386500925776082,
           0.1998607391715439,
           1,
           0.09191570387309875,
           0.1375614241079909,
           null,
           -0.0265133029919269,
           -0.0022615777560392753,
           0.378770806513441,
           -0.0015312245332653443,
           0.036212566122822816,
           null,
           0.04725511065023048,
           0.029494708395128615,
           null,
           null,
           -0.07633187847684071,
           null,
           null,
           0.045926172043863844,
           -0.00863375128607557,
           -0.016341780254777952,
           0.011362082902167192,
           null,
           null,
           -0.012043844921150314,
           null,
           null,
           0.04822326829902674,
           -0.0011091975179053951,
           -0.0014236811088961109,
           -0.001927210944209376,
           -0.03344611830903327,
           0.03361912325480489,
           0.02904807804408531,
           -0.0037347431283880107,
           -0.011046784949703079,
           -0.006291381440717766,
           -0.011961454546292818,
           -0.0019523616675318181,
           -0.0026429519657310808
          ],
          [
           0.1401936847742583,
           0.0020790228709666693,
           0.05201423057430678,
           0.09714062952118069,
           0.09199329047319017,
           0.06432650006554773,
           0.1369311052313811,
           0.09191570387309875,
           1,
           0.15672458067766903,
           null,
           -0.0877857779183984,
           0.058144946399770234,
           0.026770828308533046,
           0.04390006945639174,
           0.08161013567512014,
           null,
           0.08473254326710666,
           0.024954638731386664,
           null,
           null,
           -0.13755866864685107,
           null,
           null,
           -0.004638244302545766,
           -0.06887264715963515,
           -0.06913618932983011,
           0.005049832557523699,
           null,
           null,
           -0.053790147887295726,
           null,
           null,
           0.23802163219391909,
           0.028395643891706467,
           0.004699078249355072,
           0.011404042556000036,
           0.011941380772516896,
           -0.01612405058218992,
           0.0024724132027463554,
           0.003848655655284676,
           -0.011697288663243684,
           -0.020886282592214377,
           0.002318763401875453,
           -0.001989322500844596,
           0.024196815024209863
          ],
          [
           0.32346707624989124,
           0.05307868662075743,
           0.10979946438961216,
           0.26262667479084856,
           0.13423783538641335,
           0.021187672776068468,
           0.14964531120711153,
           0.1375614241079909,
           0.15672458067766903,
           1,
           null,
           -0.0447110517103496,
           -0.012488627929071341,
           0.04918484970932748,
           0.005024875417879921,
           -0.01813181700379303,
           null,
           0.08996895603214382,
           -0.012040990057032406,
           null,
           null,
           -0.1270499090011511,
           null,
           null,
           0.024086944533644232,
           -0.012798624781396175,
           -0.043880551835834614,
           -0.009827194454266846,
           null,
           null,
           -0.01862379220997467,
           null,
           null,
           0.19881539356937303,
           -0.011207620518391831,
           -0.005379335376372875,
           0.013889841747260557,
           -0.038318741008325566,
           0.03850828074668532,
           0.17224020645741228,
           -0.03401930309977341,
           -0.024461691234938392,
           -0.04678974970966916,
           -0.07550699595537504,
           -0.016762549668041533,
           -0.01109939296906145
          ],
          [
           null,
           null,
           null,
           null,
           null,
           null,
           null,
           null,
           null,
           null,
           null,
           null,
           null,
           null,
           null,
           null,
           null,
           null,
           null,
           null,
           null,
           null,
           null,
           null,
           null,
           null,
           null,
           null,
           null,
           null,
           null,
           null,
           null,
           null,
           null,
           null,
           null,
           null,
           null,
           null,
           null,
           null,
           null,
           null,
           null,
           null
          ],
          [
           0.06269201246065338,
           -0.057453414372150326,
           0.20247416532228854,
           0.12162310455631521,
           0.014688963785908749,
           -0.03614200834644635,
           -0.03505937976654795,
           -0.0265133029919269,
           -0.0877857779183984,
           -0.0447110517103496,
           null,
           1,
           -0.020778832956994935,
           -0.009161697825411097,
           -0.011014783396210443,
           -0.024932620473548148,
           null,
           -0.037211999501300365,
           -0.01183381406753468,
           null,
           null,
           -0.34608420024769687,
           null,
           null,
           -0.014009201898260654,
           -0.033778067381235496,
           -0.04700747423580202,
           -0.009658108795578765,
           null,
           null,
           -0.025311969070396102,
           null,
           null,
           -0.09104171375232512,
           -0.011014783396210455,
           -0.005286779106152442,
           -0.00807846744947127,
           0.0016089687373812926,
           0.0005194227510521079,
           -0.027784700016821352,
           0.017882561918344295,
           0.019684780168492004,
           0.010792123244690827,
           -0.0029443590068048285,
           -0.016474135027921926,
           -0.015034239904528117
          ],
          [
           -0.03133852143186334,
           -0.011716584983387563,
           -0.052519874048791444,
           -0.04605486160384291,
           0.008234399897155116,
           -0.003312278428057556,
           0.00014769306286903464,
           -0.0022615777560392753,
           0.058144946399770234,
           -0.012488627929071341,
           null,
           -0.020778832956994935,
           1,
           -0.0035138751047737887,
           -0.004224607043147337,
           -0.009562650509578705,
           null,
           -0.01427228021904414,
           -0.0045387378451947295,
           null,
           null,
           -0.1327370405115234,
           null,
           null,
           -0.005373085505124582,
           -0.012955230822947294,
           -0.018029233948028422,
           -0.0037042684339415213,
           null,
           null,
           -0.009708145767760948,
           null,
           null,
           -0.034918114256391235,
           0.03687700462412896,
           -0.002027689827754574,
           -0.003098413219511379,
           0.016176025823686945,
           -0.019748954162200554,
           -0.009524837766428268,
           0.006249343627359878,
           -0.014424050936159633,
           0.011207311580137899,
           0.015921266044268988,
           -0.006318485290656183,
           -0.01776190754539785
          ],
          [
           0.1290411865107463,
           0.01893126963143093,
           0.1202913887103939,
           0.1530371335251917,
           -0.0019342737180142683,
           -0.007795311260900325,
           0.24987947935228827,
           0.378770806513441,
           0.026770828308533046,
           0.04918484970932748,
           null,
           -0.009161697825411097,
           -0.0035138751047737887,
           1,
           -0.0018626923485320142,
           -0.004216315447556483,
           null,
           -0.006292861534480742,
           -0.0020011973113453186,
           null,
           null,
           -0.0585257438626523,
           null,
           null,
           -0.002369073657309341,
           -0.005712154782895962,
           -0.00794935855143269,
           -0.0016332672834042162,
           null,
           null,
           -0.0042804664801604116,
           null,
           null,
           -0.015395918149606265,
           -0.001862692348532012,
           -0.0008940387327813588,
           -0.00136613666966635,
           -0.022595114165192554,
           0.022834686065812022,
           -0.008283909859037276,
           0.01245712687239099,
           0.008434621666611877,
           -0.015315339730846944,
           -0.0027254239296781433,
           -0.0027859145442434017,
           0.005629063460584663
          ],
          [
           -0.01707436485201404,
           -0.01451737864761993,
           -0.008272956061971152,
           -0.02260456443712746,
           -0.0043605689983609325,
           0.01022770281084549,
           0.004131544453425544,
           -0.0015312245332653443,
           0.04390006945639174,
           0.005024875417879921,
           null,
           -0.011014783396210443,
           -0.004224607043147337,
           -0.0018626923485320142,
           1,
           -0.0050691260801157025,
           null,
           -0.00756568357367095,
           -0.0024059683409781273,
           null,
           null,
           -0.07036341997235483,
           null,
           null,
           -0.0028482529856587485,
           -0.006867520503100964,
           -0.009557231012355012,
           -0.00196361915636605,
           null,
           null,
           -0.00514625258463929,
           null,
           null,
           -0.018509964728736044,
           -0.0022394487510766607,
           -0.0010748709657390628,
           -0.001642457521820728,
           -0.0018722698279949083,
           0.0022934234327033906,
           -0.004849111926671021,
           -0.008961369340890864,
           -0.01197265128225827,
           0.024674834181752477,
           -0.008014775345405475,
           -0.0033494059561843784,
           0.014505924957151183
          ],
          [
           -0.009410934827495816,
           0.0016583256627827675,
           -0.0032227620034438243,
           0.01850357748936414,
           -0.02070689749579295,
           -0.014660196127045434,
           0.04001173689477128,
           0.036212566122822816,
           0.08161013567512014,
           -0.01813181700379303,
           null,
           -0.024932620473548148,
           -0.009562650509578705,
           -0.004216315447556483,
           -0.0050691260801157025,
           1,
           null,
           -0.017125376903025864,
           -0.005446053123261436,
           null,
           null,
           -0.15927180610697833,
           null,
           null,
           -0.0064471908479391115,
           -0.01554504306975618,
           -0.021633363547671,
           -0.004444769308591851,
           null,
           null,
           -0.011648850271351818,
           null,
           null,
           -0.04189841134044576,
           -0.005069126080115699,
           -0.002433034666485428,
           -0.0037178007558069078,
           -0.027659385960278917,
           0.028489418490964005,
           -0.02391088539615339,
           -0.014679210131306105,
           0.0002017895934385089,
           0.02075618796056947,
           0.010011100762162122,
           -0.007581580546206424,
           0.02566934688514926
          ],
          [
           null,
           null,
           null,
           null,
           null,
           null,
           null,
           null,
           null,
           null,
           null,
           null,
           null,
           null,
           null,
           null,
           null,
           null,
           null,
           null,
           null,
           null,
           null,
           null,
           null,
           null,
           null,
           null,
           null,
           null,
           null,
           null,
           null,
           null,
           null,
           null,
           null,
           null,
           null,
           null,
           null,
           null,
           null,
           null,
           null,
           null
          ],
          [
           0.21024896768669304,
           0.028906254980961874,
           0.10711472540722027,
           0.15118565696889869,
           0.06357115708085619,
           0.016572124207064873,
           0.098429811391465,
           0.04725511065023048,
           0.08473254326710666,
           0.08996895603214382,
           null,
           -0.037211999501300365,
           -0.01427228021904414,
           -0.006292861534480742,
           -0.00756568357367095,
           -0.017125376903025864,
           null,
           1,
           -0.008128248144709398,
           null,
           null,
           -0.23771357590398767,
           null,
           null,
           -0.009622448746325419,
           -0.023201016338141183,
           -0.03228785014400972,
           -0.006633829503408726,
           null,
           null,
           -0.01738593867211672,
           null,
           null,
           -0.06253348554196632,
           -0.007565683573670957,
           -0.0036313104309255383,
           -0.005548827088504332,
           -0.03814767413724122,
           0.039402995142202725,
           0.13321275254761838,
           -0.04291043195016203,
           0.005921751050140544,
           -0.03936725795498962,
           -0.03080264093111063,
           -0.011315528257602212,
           -0.032451114266129795
          ],
          [
           -0.006633196129119487,
           -0.03628917178137025,
           0.00024030139203293837,
           0.0497560399583108,
           0.004643022550766049,
           0.0036182186273431404,
           0.10346821753444188,
           0.029494708395128615,
           0.024954638731386664,
           -0.012040990057032406,
           null,
           -0.01183381406753468,
           -0.0045387378451947295,
           -0.0020011973113453186,
           -0.0024059683409781273,
           -0.005446053123261436,
           null,
           -0.008128248144709398,
           1,
           null,
           null,
           -0.07559546104149167,
           null,
           null,
           -0.0030600416764602224,
           -0.007378171482395085,
           -0.010267881875879266,
           -0.0021096287743506237,
           null,
           null,
           -0.0055289145542474424,
           null,
           null,
           -0.019886317607647867,
           -0.002405968340978128,
           -0.0011547955776891289,
           -0.001764586395202034,
           0.01791593436120704,
           -0.017358580860944557,
           -0.024974866184309236,
           -0.01388450360104747,
           -0.012862906520560304,
           -0.00975234142291822,
           0.06927250219802858,
           0.04452989707037494,
           -0.014344780214793086
          ],
          [
           null,
           null,
           null,
           null,
           null,
           null,
           null,
           null,
           null,
           null,
           null,
           null,
           null,
           null,
           null,
           null,
           null,
           null,
           null,
           null,
           null,
           null,
           null,
           null,
           null,
           null,
           null,
           null,
           null,
           null,
           null,
           null,
           null,
           null,
           null,
           null,
           null,
           null,
           null,
           null,
           null,
           null,
           null,
           null,
           null,
           null
          ],
          [
           null,
           null,
           null,
           null,
           null,
           null,
           null,
           null,
           null,
           null,
           null,
           null,
           null,
           null,
           null,
           null,
           null,
           null,
           null,
           null,
           null,
           null,
           null,
           null,
           null,
           null,
           null,
           null,
           null,
           null,
           null,
           null,
           null,
           null,
           null,
           null,
           null,
           null,
           null,
           null,
           null,
           null,
           null,
           null,
           null,
           null
          ],
          [
           -0.28574434339742116,
           -0.009893615672256016,
           -0.2292916210990503,
           -0.32941332557043124,
           -0.055075497735237885,
           0.0245301063726284,
           -0.08299188477711729,
           -0.07633187847684071,
           -0.13755866864685107,
           -0.1270499090011511,
           null,
           -0.34608420024769687,
           -0.1327370405115234,
           -0.0585257438626523,
           -0.07036341997235483,
           -0.15927180610697833,
           null,
           -0.23771357590398767,
           -0.07559546104149167,
           null,
           null,
           1,
           null,
           null,
           -0.08949203276970095,
           -0.21577731086551086,
           -0.3002879432591789,
           -0.06169686147035873,
           null,
           null,
           -0.16169511882006596,
           null,
           null,
           -0.5815825976170952,
           0.02396609592283923,
           0.015275990936219152,
           0.0019286448227073835,
           0.09035436286729343,
           -0.09343890141634127,
           -0.07386325916771731,
           -0.013125627615229379,
           0.02654646022421793,
           0.023347397186277603,
           0.04149534239230401,
           0.015979501907291062,
           0.023591122298209557
          ],
          [
           null,
           null,
           null,
           null,
           null,
           null,
           null,
           null,
           null,
           null,
           null,
           null,
           null,
           null,
           null,
           null,
           null,
           null,
           null,
           null,
           null,
           null,
           null,
           null,
           null,
           null,
           null,
           null,
           null,
           null,
           null,
           null,
           null,
           null,
           null,
           null,
           null,
           null,
           null,
           null,
           null,
           null,
           null,
           null,
           null,
           null
          ],
          [
           null,
           null,
           null,
           null,
           null,
           null,
           null,
           null,
           null,
           null,
           null,
           null,
           null,
           null,
           null,
           null,
           null,
           null,
           null,
           null,
           null,
           null,
           null,
           null,
           null,
           null,
           null,
           null,
           null,
           null,
           null,
           null,
           null,
           null,
           null,
           null,
           null,
           null,
           null,
           null,
           null,
           null,
           null,
           null,
           null,
           null
          ],
          [
           0.03645044541700767,
           -0.022414985173624676,
           0.028193154333201544,
           0.02671668636674893,
           -0.0218952264727235,
           -0.03506728385252094,
           -0.008636571674521917,
           0.045926172043863844,
           -0.004638244302545766,
           0.024086944533644232,
           null,
           -0.014009201898260654,
           -0.005373085505124582,
           -0.002369073657309341,
           -0.0028482529856587485,
           -0.0064471908479391115,
           null,
           -0.009622448746325419,
           -0.0030600416764602224,
           null,
           null,
           -0.08949203276970095,
           null,
           null,
           1,
           -0.008734486898896896,
           -0.012155407330702748,
           -0.0024974378726583544,
           null,
           null,
           -0.006545284540271727,
           null,
           null,
           -0.02354198205148212,
           -0.002848252985658743,
           -0.0013670794814537725,
           -0.002088967000514939,
           -0.007998074286418579,
           0.008504157387310099,
           -0.02232353007254345,
           0.020997992558372956,
           -0.003173943508010517,
           0.0020248160818290674,
           0.0014282665334232679,
           -0.004259957058762252,
           -0.0060149603484771965
          ],
          [
           0.10414451818460192,
           0.01716408864235408,
           0.11381514037085244,
           0.1416381302463375,
           -0.013226347030071351,
           0.015211241627738827,
           -0.014124407004877576,
           -0.00863375128607557,
           -0.06887264715963515,
           -0.012798624781396175,
           null,
           -0.033778067381235496,
           -0.012955230822947294,
           -0.005712154782895962,
           -0.006867520503100964,
           -0.01554504306975618,
           null,
           -0.023201016338141183,
           -0.007378171482395085,
           null,
           null,
           -0.21577731086551086,
           null,
           null,
           -0.008734486898896896,
           1,
           -0.029308319691917627,
           -0.006021658146962456,
           null,
           null,
           -0.01578156013713432,
           null,
           null,
           -0.05676288069783094,
           -0.006867520503100958,
           -0.003296212245023267,
           -0.005036780011667318,
           -0.04969441150538261,
           0.050754588968841,
           0.017334432783439074,
           0.012197763938978501,
           -0.006199670472815255,
           -0.024258149626423104,
           -0.0006038724126619182,
           -0.010271328632211812,
           -0.008553334346746651
          ],
          [
           0.005103495631891047,
           -0.018519842054679343,
           0.021500351663954826,
           0.11949691095873821,
           -0.022742357932698624,
           -0.056092920675464696,
           -0.017056363412218212,
           -0.016341780254777952,
           -0.06913618932983011,
           -0.043880551835834614,
           null,
           -0.04700747423580202,
           -0.018029233948028422,
           -0.00794935855143269,
           -0.009557231012355012,
           -0.021633363547671,
           null,
           -0.03228785014400972,
           -0.010267881875879266,
           null,
           null,
           -0.3002879432591789,
           null,
           null,
           -0.012155407330702748,
           -0.029308319691917627,
           1,
           -0.00838008098584678,
           null,
           null,
           -0.021962514112314768,
           null,
           null,
           -0.07899444399342648,
           -0.009557231012354986,
           -0.004587195899483073,
           -0.007009468717010822,
           -0.0666957184134357,
           0.06818407891734962,
           -0.058917984206455755,
           0.028363815475313626,
           -0.006392680064511578,
           0.013159908292961065,
           0.018874733269558654,
           0.01086114294525244,
           -0.002752034180728484
          ],
          [
           0.023324043985890698,
           -0.011912136494908137,
           0.11445052795156162,
           0.03178080036069195,
           -0.015549446818300847,
           -0.036144382242615604,
           -0.007920958219518345,
           0.011362082902167192,
           0.005049832557523699,
           -0.009827194454266846,
           null,
           -0.009658108795578765,
           -0.0037042684339415213,
           -0.0016332672834042162,
           -0.00196361915636605,
           -0.004444769308591851,
           null,
           -0.006633829503408726,
           -0.0021096287743506237,
           null,
           null,
           -0.06169686147035873,
           null,
           null,
           -0.0024974378726583544,
           -0.006021658146962456,
           -0.00838008098584678,
           1,
           null,
           null,
           -0.004512396255479244,
           null,
           null,
           -0.016230119714743106,
           -0.0019636191563660514,
           -0.0009424806966143622,
           -0.0014401584549832262,
           -0.014209043620946602,
           0.014512178467861722,
           0.021558161199652037,
           -0.01697727597795176,
           -0.010497997508998594,
           0.008412374995178686,
           -0.01637525689355717,
           -0.002936864572073006,
           0.02004725350713044
          ],
          [
           null,
           null,
           null,
           null,
           null,
           null,
           null,
           null,
           null,
           null,
           null,
           null,
           null,
           null,
           null,
           null,
           null,
           null,
           null,
           null,
           null,
           null,
           null,
           null,
           null,
           null,
           null,
           null,
           null,
           null,
           null,
           null,
           null,
           null,
           null,
           null,
           null,
           null,
           null,
           null,
           null,
           null,
           null,
           null,
           null,
           null
          ],
          [
           null,
           null,
           null,
           null,
           null,
           null,
           null,
           null,
           null,
           null,
           null,
           null,
           null,
           null,
           null,
           null,
           null,
           null,
           null,
           null,
           null,
           null,
           null,
           null,
           null,
           null,
           null,
           null,
           null,
           null,
           null,
           null,
           null,
           null,
           null,
           null,
           null,
           null,
           null,
           null,
           null,
           null,
           null,
           null,
           null,
           null
          ],
          [
           -0.025108934149320757,
           0.0031723751645794953,
           -0.042296180838353604,
           -0.040239505637596415,
           -0.0018217309630235892,
           0.0634929677490225,
           -0.012516623968768611,
           -0.012043844921150314,
           -0.053790147887295726,
           -0.01862379220997467,
           null,
           -0.025311969070396102,
           -0.009708145767760948,
           -0.0042804664801604116,
           -0.00514625258463929,
           -0.011648850271351818,
           null,
           -0.01738593867211672,
           -0.0055289145542474424,
           null,
           null,
           -0.16169511882006596,
           null,
           null,
           -0.006545284540271727,
           -0.01578156013713432,
           -0.021962514112314768,
           -0.004512396255479244,
           null,
           null,
           1,
           null,
           null,
           -0.04253589361267731,
           -0.005146252584639279,
           -0.0024700531695261855,
           -0.003774366911842219,
           0.02276478507778903,
           -0.021654511087442162,
           -0.004926081230285217,
           0.015559271222746076,
           -0.0006103757468805304,
           0.014475335945575752,
           -0.01949875956619841,
           -0.007696933922123978,
           -0.012324870850004116
          ],
          [
           null,
           null,
           null,
           null,
           null,
           null,
           null,
           null,
           null,
           null,
           null,
           null,
           null,
           null,
           null,
           null,
           null,
           null,
           null,
           null,
           null,
           null,
           null,
           null,
           null,
           null,
           null,
           null,
           null,
           null,
           null,
           null,
           null,
           null,
           null,
           null,
           null,
           null,
           null,
           null,
           null,
           null,
           null,
           null,
           null,
           null
          ],
          [
           null,
           null,
           null,
           null,
           null,
           null,
           null,
           null,
           null,
           null,
           null,
           null,
           null,
           null,
           null,
           null,
           null,
           null,
           null,
           null,
           null,
           null,
           null,
           null,
           null,
           null,
           null,
           null,
           null,
           null,
           null,
           null,
           null,
           null,
           null,
           null,
           null,
           null,
           null,
           null,
           null,
           null,
           null,
           null,
           null,
           null
          ],
          [
           0.20429122116782214,
           0.053223425437609065,
           0.06835136363740643,
           0.16171718225635898,
           0.06575615671006083,
           0.0030116518798050484,
           0.05549070373181597,
           0.04822326829902674,
           0.23802163219391909,
           0.19881539356937303,
           null,
           -0.09104171375232512,
           -0.034918114256391235,
           -0.015395918149606265,
           -0.018509964728736044,
           -0.04189841134044576,
           null,
           -0.06253348554196632,
           -0.019886317607647867,
           null,
           null,
           -0.5815825976170952,
           null,
           null,
           -0.02354198205148212,
           -0.05676288069783094,
           -0.07899444399342648,
           -0.016230119714743106,
           null,
           null,
           -0.04253589361267731,
           null,
           null,
           1,
           -0.018509964728736093,
           -0.008884250489861472,
           0.0156556359436927,
           -0.04733916920794288,
           0.048317889150714485,
           0.10232915127581384,
           0.0029246628377886646,
           -0.037165617324341274,
           -0.03374771663935804,
           -0.059397083291020794,
           -0.0061012117526440535,
           -0.003731431315874396
          ],
          [
           -0.03996079286049927,
           0.013440949380136617,
           -0.0321697165262895,
           -0.02758122611694691,
           -0.009054502543520974,
           -0.011821991465401605,
           0.0012392641148272314,
           -0.0011091975179053951,
           0.028395643891706467,
           -0.011207620518391831,
           null,
           -0.011014783396210455,
           0.03687700462412896,
           -0.001862692348532012,
           -0.0022394487510766607,
           -0.005069126080115699,
           null,
           -0.007565683573670957,
           -0.002405968340978128,
           null,
           null,
           0.02396609592283923,
           null,
           null,
           -0.002848252985658743,
           -0.006867520503100958,
           -0.009557231012354986,
           -0.0019636191563660514,
           null,
           null,
           -0.005146252584639279,
           null,
           null,
           -0.018509964728736093,
           1,
           -0.001074870965739058,
           -0.0016424575218207224,
           -0.02716530200897285,
           -0.08157293440179282,
           -0.02324632952652232,
           0.0430421541383228,
           -0.01197265128225827,
           -0.007641107576205612,
           -0.018675489327931505,
           -0.003349405956184382,
           0.0005769810058876842
          ],
          [
           -0.01163478310297539,
           0.010924333311101698,
           0.005905954707385444,
           0.000369210765980885,
           -0.009028508988804852,
           0.010788569085660137,
           0.0022090424549773154,
           -0.0014236811088961109,
           0.004699078249355072,
           -0.005379335376372875,
           null,
           -0.005286779106152442,
           -0.002027689827754574,
           -0.0008940387327813588,
           -0.0010748709657390628,
           -0.002433034666485428,
           null,
           -0.0036313104309255383,
           -0.0011547955776891289,
           null,
           null,
           0.015275990936219152,
           null,
           null,
           -0.0013670794814537725,
           -0.003296212245023267,
           -0.004587195899483073,
           -0.0009424806966143622,
           null,
           null,
           -0.0024700531695261855,
           null,
           null,
           -0.008884250489861472,
           -0.001074870965739058,
           1,
           -0.0007883323526899457,
           -0.013038563347761293,
           -0.039152661446916356,
           -0.011157569315238244,
           0.012338930553728885,
           -0.005746528131099623,
           -0.008837752525311496,
           0.013209258357128943,
           -0.0016076184878288488,
           -0.006408558043004324
          ],
          [
           -0.019751538765147295,
           -0.008694465341610403,
           -0.01357885788345415,
           0.07509603598573182,
           -0.01053661524011502,
           -0.01021065195949949,
           -0.005332842794920283,
           -0.001927210944209376,
           0.011404042556000036,
           0.013889841747260557,
           null,
           -0.00807846744947127,
           -0.003098413219511379,
           -0.00136613666966635,
           -0.001642457521820728,
           -0.0037178007558069078,
           null,
           -0.005548827088504332,
           -0.001764586395202034,
           null,
           null,
           0.0019286448227073835,
           null,
           null,
           -0.002088967000514939,
           -0.005036780011667318,
           -0.007009468717010822,
           -0.0014401584549832262,
           null,
           null,
           -0.003774366911842219,
           null,
           null,
           0.0156556359436927,
           -0.0016424575218207224,
           -0.0007883323526899457,
           1,
           -0.019923588157897458,
           -0.05982725865943564,
           -0.0045202161396980965,
           -0.008129204552250939,
           -0.008780987350225132,
           0.001167619035475013,
           0.029864820158283928,
           -0.002456522840150433,
           -0.009792602737687539
          ],
          [
           -0.15507522321939043,
           0.017225483914729764,
           -0.07061912053915048,
           -0.16457517453069098,
           0.041204192916653185,
           0.1365550156949648,
           -0.005906331486159942,
           -0.03344611830903327,
           0.011941380772516896,
           -0.038318741008325566,
           null,
           0.0016089687373812926,
           0.016176025823686945,
           -0.022595114165192554,
           -0.0018722698279949083,
           -0.027659385960278917,
           null,
           -0.03814767413724122,
           0.01791593436120704,
           null,
           null,
           0.09035436286729343,
           null,
           null,
           -0.007998074286418579,
           -0.04969441150538261,
           -0.0666957184134357,
           -0.014209043620946602,
           null,
           null,
           0.02276478507778903,
           null,
           null,
           -0.04733916920794288,
           -0.02716530200897285,
           -0.013038563347761293,
           -0.019923588157897458,
           1,
           -0.9895084215334102,
           -0.03955374557130812,
           0.02965860151538311,
           -0.011297457943691733,
           0.018133741953898826,
           0.035773037668084554,
           0.010244324733606454,
           -0.05838336911376483
          ],
          [
           0.16079205896159737,
           -0.018473941762146263,
           0.07452252935072198,
           0.16069240278262395,
           -0.03868862048301591,
           -0.13429904425365194,
           0.006050808049503795,
           0.03361912325480489,
           -0.01612405058218992,
           0.03850828074668532,
           null,
           0.0005194227510521079,
           -0.019748954162200554,
           0.022834686065812022,
           0.0022934234327033906,
           0.028489418490964005,
           null,
           0.039402995142202725,
           -0.017358580860944557,
           null,
           null,
           -0.09343890141634127,
           null,
           null,
           0.008504157387310099,
           0.050754588968841,
           0.06818407891734962,
           0.014512178467861722,
           null,
           null,
           -0.021654511087442162,
           null,
           null,
           0.048317889150714485,
           -0.08157293440179282,
           -0.039152661446916356,
           -0.05982725865943564,
           -0.9895084215334102,
           1,
           0.04281893938545944,
           -0.03418084969175157,
           0.013542271829648735,
           -0.016838095164089347,
           -0.0366292415372567,
           -0.009545773693484971,
           0.05913059278442229
          ],
          [
           0.240636329385252,
           0.13952216512646057,
           0.09731543012935975,
           0.13044056190492964,
           0.11103500273506237,
           0.10967524797704854,
           0.03753795379004188,
           0.02904807804408531,
           0.0024724132027463554,
           0.17224020645741228,
           null,
           -0.027784700016821352,
           -0.009524837766428268,
           -0.008283909859037276,
           -0.004849111926671021,
           -0.02391088539615339,
           null,
           0.13321275254761838,
           -0.024974866184309236,
           null,
           null,
           -0.07386325916771731,
           null,
           null,
           -0.02232353007254345,
           0.017334432783439074,
           -0.058917984206455755,
           0.021558161199652037,
           null,
           null,
           -0.004926081230285217,
           null,
           null,
           0.10232915127581384,
           -0.02324632952652232,
           -0.011157569315238244,
           -0.0045202161396980965,
           -0.03955374557130812,
           0.04281893938545944,
           1,
           -0.40148890488447686,
           -0.12428067258949688,
           -0.19113485620665716,
           -0.19385868007804563,
           -0.03476810734700919,
           -0.13859845209893737
          ],
          [
           -0.03859299897139638,
           0.14164455453271607,
           -0.0050281322316876875,
           0.0150037533354623,
           -0.012876151738775788,
           -0.030602141757072807,
           0.008036903745868384,
           -0.0037347431283880107,
           0.003848655655284676,
           -0.03401930309977341,
           null,
           0.017882561918344295,
           0.006249343627359878,
           0.01245712687239099,
           -0.008961369340890864,
           -0.014679210131306105,
           null,
           -0.04291043195016203,
           -0.01388450360104747,
           null,
           null,
           -0.013125627615229379,
           null,
           null,
           0.020997992558372956,
           0.012197763938978501,
           0.028363815475313626,
           -0.01697727597795176,
           null,
           null,
           0.015559271222746076,
           null,
           null,
           0.0029246628377886646,
           0.0430421541383228,
           0.012338930553728885,
           -0.008129204552250939,
           0.02965860151538311,
           -0.03418084969175157,
           -0.40148890488447686,
           1,
           -0.20678045737901465,
           -0.3180136715065138,
           -0.32254561950944993,
           -0.057847813257045744,
           -0.23060264094084015
          ],
          [
           0.009788052337387559,
           0.027301717575979028,
           -0.013962797725639195,
           -0.022270218609499473,
           0.020003846748730472,
           0.017518585305653887,
           -0.008738403390420688,
           -0.011046784949703079,
           -0.011697288663243684,
           -0.024461691234938392,
           null,
           0.019684780168492004,
           -0.014424050936159633,
           0.008434621666611877,
           -0.01197265128225827,
           0.0002017895934385089,
           null,
           0.005921751050140544,
           -0.012862906520560304,
           null,
           null,
           0.02654646022421793,
           null,
           null,
           -0.003173943508010517,
           -0.006199670472815255,
           -0.006392680064511578,
           -0.010497997508998594,
           null,
           null,
           -0.0006103757468805304,
           null,
           null,
           -0.037165617324341274,
           -0.01197265128225827,
           -0.005746528131099623,
           -0.008780987350225132,
           -0.011297457943691733,
           0.013542271829648735,
           -0.12428067258949688,
           -0.20678045737901465,
           1,
           -0.09844095940548353,
           -0.09984382144997174,
           -0.017906759195465013,
           -0.07138292233826035
          ],
          [
           -0.08221592958415559,
           -0.02380712147883214,
           -0.04518412301504599,
           -0.05359755161367786,
           -0.03492537741120419,
           -0.01954909241802389,
           -0.02588349987018736,
           -0.006291381440717766,
           -0.020886282592214377,
           -0.04678974970966916,
           null,
           0.010792123244690827,
           0.011207311580137899,
           -0.015315339730846944,
           0.024674834181752477,
           0.02075618796056947,
           null,
           -0.03936725795498962,
           -0.00975234142291822,
           null,
           null,
           0.023347397186277603,
           null,
           null,
           0.0020248160818290674,
           -0.024258149626423104,
           0.013159908292961065,
           0.008412374995178686,
           null,
           null,
           0.014475335945575752,
           null,
           null,
           -0.03374771663935804,
           -0.007641107576205612,
           -0.008837752525311496,
           0.001167619035475013,
           0.018133741953898826,
           -0.016838095164089347,
           -0.19113485620665716,
           -0.3180136715065138,
           -0.09844095940548353,
           1,
           -0.1535527130513465,
           -0.027539325082809877,
           -0.10978186963792931
          ],
          [
           -0.11898937746769431,
           -0.2573687632917247,
           -0.04287311935083576,
           -0.07944990302328646,
           -0.05824577084556572,
           -0.009383947875174313,
           -0.006556508116721315,
           -0.011961454546292818,
           0.002318763401875453,
           -0.07550699595537504,
           null,
           -0.0029443590068048285,
           0.015921266044268988,
           -0.0027254239296781433,
           -0.008014775345405475,
           0.010011100762162122,
           null,
           -0.03080264093111063,
           0.06927250219802858,
           null,
           null,
           0.04149534239230401,
           null,
           null,
           0.0014282665334232679,
           -0.0006038724126619182,
           0.018874733269558654,
           -0.01637525689355717,
           null,
           null,
           -0.01949875956619841,
           null,
           null,
           -0.059397083291020794,
           -0.018675489327931505,
           0.013209258357128943,
           0.029864820158283928,
           0.035773037668084554,
           -0.0366292415372567,
           -0.19385868007804563,
           -0.32254561950944993,
           -0.09984382144997174,
           -0.1535527130513465,
           1,
           -0.027931782390446983,
           -0.1113463486822023
          ],
          [
           -0.034502164368181175,
           -0.04093829374394944,
           -0.030551922109152252,
           -0.027440288689646857,
           -0.0013526356307071636,
           -0.0074467589234345115,
           -0.008831602373931744,
           -0.0019523616675318181,
           -0.001989322500844596,
           -0.016762549668041533,
           null,
           -0.016474135027921926,
           -0.006318485290656183,
           -0.0027859145442434017,
           -0.0033494059561843784,
           -0.007581580546206424,
           null,
           -0.011315528257602212,
           0.04452989707037494,
           null,
           null,
           0.015979501907291062,
           null,
           null,
           -0.004259957058762252,
           -0.010271328632211812,
           0.01086114294525244,
           -0.002936864572073006,
           null,
           null,
           -0.007696933922123978,
           null,
           null,
           -0.0061012117526440535,
           -0.003349405956184382,
           -0.0016076184878288488,
           -0.002456522840150433,
           0.010244324733606454,
           -0.009545773693484971,
           -0.03476810734700919,
           -0.057847813257045744,
           -0.017906759195465013,
           -0.027539325082809877,
           -0.027931782390446983,
           1,
           -0.019969710936450107
          ],
          [
           -0.029852706436701917,
           -0.1235977099963647,
           -0.0025521640481163945,
           -0.02488082673238147,
           -0.04056512314240895,
           -0.08509176535262743,
           -0.019544025213215924,
           -0.0026429519657310808,
           0.024196815024209863,
           -0.01109939296906145,
           null,
           -0.015034239904528117,
           -0.01776190754539785,
           0.005629063460584663,
           0.014505924957151183,
           0.02566934688514926,
           null,
           -0.032451114266129795,
           -0.014344780214793086,
           null,
           null,
           0.023591122298209557,
           null,
           null,
           -0.0060149603484771965,
           -0.008553334346746651,
           -0.002752034180728484,
           0.02004725350713044,
           null,
           null,
           -0.012324870850004116,
           null,
           null,
           -0.003731431315874396,
           0.0005769810058876842,
           -0.006408558043004324,
           -0.009792602737687539,
           -0.05838336911376483,
           0.05913059278442229,
           -0.13859845209893737,
           -0.23060264094084015,
           -0.07138292233826035,
           -0.10978186963792931,
           -0.1113463486822023,
           -0.019969710936450107,
           1
          ]
         ]
        }
       ],
       "layout": {
        "coloraxis": {
         "cmax": 1,
         "cmin": -1,
         "colorscale": [
          [
           0,
           "#0d0887"
          ],
          [
           0.1111111111111111,
           "#46039f"
          ],
          [
           0.2222222222222222,
           "#7201a8"
          ],
          [
           0.3333333333333333,
           "#9c179e"
          ],
          [
           0.4444444444444444,
           "#bd3786"
          ],
          [
           0.5555555555555556,
           "#d8576b"
          ],
          [
           0.6666666666666666,
           "#ed7953"
          ],
          [
           0.7777777777777778,
           "#fb9f3a"
          ],
          [
           0.8888888888888888,
           "#fdca26"
          ],
          [
           1,
           "#f0f921"
          ]
         ]
        },
        "template": {
         "data": {
          "bar": [
           {
            "error_x": {
             "color": "#2a3f5f"
            },
            "error_y": {
             "color": "#2a3f5f"
            },
            "marker": {
             "line": {
              "color": "#E5ECF6",
              "width": 0.5
             },
             "pattern": {
              "fillmode": "overlay",
              "size": 10,
              "solidity": 0.2
             }
            },
            "type": "bar"
           }
          ],
          "barpolar": [
           {
            "marker": {
             "line": {
              "color": "#E5ECF6",
              "width": 0.5
             },
             "pattern": {
              "fillmode": "overlay",
              "size": 10,
              "solidity": 0.2
             }
            },
            "type": "barpolar"
           }
          ],
          "carpet": [
           {
            "aaxis": {
             "endlinecolor": "#2a3f5f",
             "gridcolor": "white",
             "linecolor": "white",
             "minorgridcolor": "white",
             "startlinecolor": "#2a3f5f"
            },
            "baxis": {
             "endlinecolor": "#2a3f5f",
             "gridcolor": "white",
             "linecolor": "white",
             "minorgridcolor": "white",
             "startlinecolor": "#2a3f5f"
            },
            "type": "carpet"
           }
          ],
          "choropleth": [
           {
            "colorbar": {
             "outlinewidth": 0,
             "ticks": ""
            },
            "type": "choropleth"
           }
          ],
          "contour": [
           {
            "colorbar": {
             "outlinewidth": 0,
             "ticks": ""
            },
            "colorscale": [
             [
              0,
              "#0d0887"
             ],
             [
              0.1111111111111111,
              "#46039f"
             ],
             [
              0.2222222222222222,
              "#7201a8"
             ],
             [
              0.3333333333333333,
              "#9c179e"
             ],
             [
              0.4444444444444444,
              "#bd3786"
             ],
             [
              0.5555555555555556,
              "#d8576b"
             ],
             [
              0.6666666666666666,
              "#ed7953"
             ],
             [
              0.7777777777777778,
              "#fb9f3a"
             ],
             [
              0.8888888888888888,
              "#fdca26"
             ],
             [
              1,
              "#f0f921"
             ]
            ],
            "type": "contour"
           }
          ],
          "contourcarpet": [
           {
            "colorbar": {
             "outlinewidth": 0,
             "ticks": ""
            },
            "type": "contourcarpet"
           }
          ],
          "heatmap": [
           {
            "colorbar": {
             "outlinewidth": 0,
             "ticks": ""
            },
            "colorscale": [
             [
              0,
              "#0d0887"
             ],
             [
              0.1111111111111111,
              "#46039f"
             ],
             [
              0.2222222222222222,
              "#7201a8"
             ],
             [
              0.3333333333333333,
              "#9c179e"
             ],
             [
              0.4444444444444444,
              "#bd3786"
             ],
             [
              0.5555555555555556,
              "#d8576b"
             ],
             [
              0.6666666666666666,
              "#ed7953"
             ],
             [
              0.7777777777777778,
              "#fb9f3a"
             ],
             [
              0.8888888888888888,
              "#fdca26"
             ],
             [
              1,
              "#f0f921"
             ]
            ],
            "type": "heatmap"
           }
          ],
          "heatmapgl": [
           {
            "colorbar": {
             "outlinewidth": 0,
             "ticks": ""
            },
            "colorscale": [
             [
              0,
              "#0d0887"
             ],
             [
              0.1111111111111111,
              "#46039f"
             ],
             [
              0.2222222222222222,
              "#7201a8"
             ],
             [
              0.3333333333333333,
              "#9c179e"
             ],
             [
              0.4444444444444444,
              "#bd3786"
             ],
             [
              0.5555555555555556,
              "#d8576b"
             ],
             [
              0.6666666666666666,
              "#ed7953"
             ],
             [
              0.7777777777777778,
              "#fb9f3a"
             ],
             [
              0.8888888888888888,
              "#fdca26"
             ],
             [
              1,
              "#f0f921"
             ]
            ],
            "type": "heatmapgl"
           }
          ],
          "histogram": [
           {
            "marker": {
             "pattern": {
              "fillmode": "overlay",
              "size": 10,
              "solidity": 0.2
             }
            },
            "type": "histogram"
           }
          ],
          "histogram2d": [
           {
            "colorbar": {
             "outlinewidth": 0,
             "ticks": ""
            },
            "colorscale": [
             [
              0,
              "#0d0887"
             ],
             [
              0.1111111111111111,
              "#46039f"
             ],
             [
              0.2222222222222222,
              "#7201a8"
             ],
             [
              0.3333333333333333,
              "#9c179e"
             ],
             [
              0.4444444444444444,
              "#bd3786"
             ],
             [
              0.5555555555555556,
              "#d8576b"
             ],
             [
              0.6666666666666666,
              "#ed7953"
             ],
             [
              0.7777777777777778,
              "#fb9f3a"
             ],
             [
              0.8888888888888888,
              "#fdca26"
             ],
             [
              1,
              "#f0f921"
             ]
            ],
            "type": "histogram2d"
           }
          ],
          "histogram2dcontour": [
           {
            "colorbar": {
             "outlinewidth": 0,
             "ticks": ""
            },
            "colorscale": [
             [
              0,
              "#0d0887"
             ],
             [
              0.1111111111111111,
              "#46039f"
             ],
             [
              0.2222222222222222,
              "#7201a8"
             ],
             [
              0.3333333333333333,
              "#9c179e"
             ],
             [
              0.4444444444444444,
              "#bd3786"
             ],
             [
              0.5555555555555556,
              "#d8576b"
             ],
             [
              0.6666666666666666,
              "#ed7953"
             ],
             [
              0.7777777777777778,
              "#fb9f3a"
             ],
             [
              0.8888888888888888,
              "#fdca26"
             ],
             [
              1,
              "#f0f921"
             ]
            ],
            "type": "histogram2dcontour"
           }
          ],
          "mesh3d": [
           {
            "colorbar": {
             "outlinewidth": 0,
             "ticks": ""
            },
            "type": "mesh3d"
           }
          ],
          "parcoords": [
           {
            "line": {
             "colorbar": {
              "outlinewidth": 0,
              "ticks": ""
             }
            },
            "type": "parcoords"
           }
          ],
          "pie": [
           {
            "automargin": true,
            "type": "pie"
           }
          ],
          "scatter": [
           {
            "fillpattern": {
             "fillmode": "overlay",
             "size": 10,
             "solidity": 0.2
            },
            "type": "scatter"
           }
          ],
          "scatter3d": [
           {
            "line": {
             "colorbar": {
              "outlinewidth": 0,
              "ticks": ""
             }
            },
            "marker": {
             "colorbar": {
              "outlinewidth": 0,
              "ticks": ""
             }
            },
            "type": "scatter3d"
           }
          ],
          "scattercarpet": [
           {
            "marker": {
             "colorbar": {
              "outlinewidth": 0,
              "ticks": ""
             }
            },
            "type": "scattercarpet"
           }
          ],
          "scattergeo": [
           {
            "marker": {
             "colorbar": {
              "outlinewidth": 0,
              "ticks": ""
             }
            },
            "type": "scattergeo"
           }
          ],
          "scattergl": [
           {
            "marker": {
             "colorbar": {
              "outlinewidth": 0,
              "ticks": ""
             }
            },
            "type": "scattergl"
           }
          ],
          "scattermapbox": [
           {
            "marker": {
             "colorbar": {
              "outlinewidth": 0,
              "ticks": ""
             }
            },
            "type": "scattermapbox"
           }
          ],
          "scatterpolar": [
           {
            "marker": {
             "colorbar": {
              "outlinewidth": 0,
              "ticks": ""
             }
            },
            "type": "scatterpolar"
           }
          ],
          "scatterpolargl": [
           {
            "marker": {
             "colorbar": {
              "outlinewidth": 0,
              "ticks": ""
             }
            },
            "type": "scatterpolargl"
           }
          ],
          "scatterternary": [
           {
            "marker": {
             "colorbar": {
              "outlinewidth": 0,
              "ticks": ""
             }
            },
            "type": "scatterternary"
           }
          ],
          "surface": [
           {
            "colorbar": {
             "outlinewidth": 0,
             "ticks": ""
            },
            "colorscale": [
             [
              0,
              "#0d0887"
             ],
             [
              0.1111111111111111,
              "#46039f"
             ],
             [
              0.2222222222222222,
              "#7201a8"
             ],
             [
              0.3333333333333333,
              "#9c179e"
             ],
             [
              0.4444444444444444,
              "#bd3786"
             ],
             [
              0.5555555555555556,
              "#d8576b"
             ],
             [
              0.6666666666666666,
              "#ed7953"
             ],
             [
              0.7777777777777778,
              "#fb9f3a"
             ],
             [
              0.8888888888888888,
              "#fdca26"
             ],
             [
              1,
              "#f0f921"
             ]
            ],
            "type": "surface"
           }
          ],
          "table": [
           {
            "cells": {
             "fill": {
              "color": "#EBF0F8"
             },
             "line": {
              "color": "white"
             }
            },
            "header": {
             "fill": {
              "color": "#C8D4E3"
             },
             "line": {
              "color": "white"
             }
            },
            "type": "table"
           }
          ]
         },
         "layout": {
          "annotationdefaults": {
           "arrowcolor": "#2a3f5f",
           "arrowhead": 0,
           "arrowwidth": 1
          },
          "autotypenumbers": "strict",
          "coloraxis": {
           "colorbar": {
            "outlinewidth": 0,
            "ticks": ""
           }
          },
          "colorscale": {
           "diverging": [
            [
             0,
             "#8e0152"
            ],
            [
             0.1,
             "#c51b7d"
            ],
            [
             0.2,
             "#de77ae"
            ],
            [
             0.3,
             "#f1b6da"
            ],
            [
             0.4,
             "#fde0ef"
            ],
            [
             0.5,
             "#f7f7f7"
            ],
            [
             0.6,
             "#e6f5d0"
            ],
            [
             0.7,
             "#b8e186"
            ],
            [
             0.8,
             "#7fbc41"
            ],
            [
             0.9,
             "#4d9221"
            ],
            [
             1,
             "#276419"
            ]
           ],
           "sequential": [
            [
             0,
             "#0d0887"
            ],
            [
             0.1111111111111111,
             "#46039f"
            ],
            [
             0.2222222222222222,
             "#7201a8"
            ],
            [
             0.3333333333333333,
             "#9c179e"
            ],
            [
             0.4444444444444444,
             "#bd3786"
            ],
            [
             0.5555555555555556,
             "#d8576b"
            ],
            [
             0.6666666666666666,
             "#ed7953"
            ],
            [
             0.7777777777777778,
             "#fb9f3a"
            ],
            [
             0.8888888888888888,
             "#fdca26"
            ],
            [
             1,
             "#f0f921"
            ]
           ],
           "sequentialminus": [
            [
             0,
             "#0d0887"
            ],
            [
             0.1111111111111111,
             "#46039f"
            ],
            [
             0.2222222222222222,
             "#7201a8"
            ],
            [
             0.3333333333333333,
             "#9c179e"
            ],
            [
             0.4444444444444444,
             "#bd3786"
            ],
            [
             0.5555555555555556,
             "#d8576b"
            ],
            [
             0.6666666666666666,
             "#ed7953"
            ],
            [
             0.7777777777777778,
             "#fb9f3a"
            ],
            [
             0.8888888888888888,
             "#fdca26"
            ],
            [
             1,
             "#f0f921"
            ]
           ]
          },
          "colorway": [
           "#636efa",
           "#EF553B",
           "#00cc96",
           "#ab63fa",
           "#FFA15A",
           "#19d3f3",
           "#FF6692",
           "#B6E880",
           "#FF97FF",
           "#FECB52"
          ],
          "font": {
           "color": "#2a3f5f"
          },
          "geo": {
           "bgcolor": "white",
           "lakecolor": "white",
           "landcolor": "#E5ECF6",
           "showlakes": true,
           "showland": true,
           "subunitcolor": "white"
          },
          "hoverlabel": {
           "align": "left"
          },
          "hovermode": "closest",
          "mapbox": {
           "style": "light"
          },
          "paper_bgcolor": "white",
          "plot_bgcolor": "#E5ECF6",
          "polar": {
           "angularaxis": {
            "gridcolor": "white",
            "linecolor": "white",
            "ticks": ""
           },
           "bgcolor": "#E5ECF6",
           "radialaxis": {
            "gridcolor": "white",
            "linecolor": "white",
            "ticks": ""
           }
          },
          "scene": {
           "xaxis": {
            "backgroundcolor": "#E5ECF6",
            "gridcolor": "white",
            "gridwidth": 2,
            "linecolor": "white",
            "showbackground": true,
            "ticks": "",
            "zerolinecolor": "white"
           },
           "yaxis": {
            "backgroundcolor": "#E5ECF6",
            "gridcolor": "white",
            "gridwidth": 2,
            "linecolor": "white",
            "showbackground": true,
            "ticks": "",
            "zerolinecolor": "white"
           },
           "zaxis": {
            "backgroundcolor": "#E5ECF6",
            "gridcolor": "white",
            "gridwidth": 2,
            "linecolor": "white",
            "showbackground": true,
            "ticks": "",
            "zerolinecolor": "white"
           }
          },
          "shapedefaults": {
           "line": {
            "color": "#2a3f5f"
           }
          },
          "ternary": {
           "aaxis": {
            "gridcolor": "white",
            "linecolor": "white",
            "ticks": ""
           },
           "baxis": {
            "gridcolor": "white",
            "linecolor": "white",
            "ticks": ""
           },
           "bgcolor": "#E5ECF6",
           "caxis": {
            "gridcolor": "white",
            "linecolor": "white",
            "ticks": ""
           }
          },
          "title": {
           "x": 0.05
          },
          "xaxis": {
           "automargin": true,
           "gridcolor": "white",
           "linecolor": "white",
           "ticks": "",
           "title": {
            "standoff": 15
           },
           "zerolinecolor": "white",
           "zerolinewidth": 2
          },
          "yaxis": {
           "automargin": true,
           "gridcolor": "white",
           "linecolor": "white",
           "ticks": "",
           "title": {
            "standoff": 15
           },
           "zerolinecolor": "white",
           "zerolinewidth": 2
          }
         }
        },
        "title": {
         "text": "Correlation matrix between price and variables for house in Belgium"
        },
        "xaxis": {
         "anchor": "y",
         "constrain": "domain",
         "domain": [
          0,
          1
         ],
         "scaleanchor": "y"
        },
        "yaxis": {
         "anchor": "x",
         "autorange": "reversed",
         "constrain": "domain",
         "domain": [
          0,
          1
         ]
        }
       }
      }
     },
     "metadata": {},
     "output_type": "display_data"
    }
   ],
   "source": [
    "for type_of_property, group_df in df_encoded.groupby('Type of property'):\n",
    "    if type_of_property == '0' or type_of_property.lower() == 'unknown':\n",
    "        continue\n",
    "    print(f\"Type of property: {type_of_property}\")\n",
    "\n",
    "    if type_of_property == 'apartment':\n",
    "        numeric_cols = ['Price of property in euro', 'Kitchen', 'Number of bedrooms', 'Living area', 'Terrace area', 'Garden', 'Garden area', 'Number of facades']\n",
    "    else:\n",
    "        numeric_cols = ['Price of property in euro', 'Kitchen', 'Number of bedrooms', 'Living area', 'Terrace area', 'Garden', 'Garden area', 'Surface of the land(or plot of land)', 'Number of facades', 'Swimming pool']\n",
    "\n",
    "    for col in group_df.columns:\n",
    "        if 'Subtype of property_' in col or 'Type of Sale_' in col or 'State of the building_' in col:\n",
    "            numeric_cols.append(col)\n",
    "\n",
    "    corr = group_df[numeric_cols].corr()\n",
    "    fig = px.imshow(corr, title=f\"Correlation matrix between price and variables for {type_of_property} in Belgium\", zmin=-1, zmax=1)\n",
    "    fig.show()\n"
   ]
  },
  {
   "cell_type": "markdown",
   "metadata": {},
   "source": [
    "Price has the biggest correlation with variable living area and number of bedrooms because they are indicators of the size and capacity of the property. Larger and more spacious properties tend to have higher prices than smaller and more cramped ones. This means that larger and more spacious properties tend to have higher prices than smaller and more cramped ones.\n",
    "\n",
    "Price has the smallest correlation with type of property appartement and type of sale under an option because they are not very relevant or distinctive factors for determining the price. Appartements are a common and diverse type of property that can have a wide range of prices depending on other features. Type of sale under an option is a temporary and conditional agreement that does not reflect the final or actual price of the property.\n",
    "We find that price has the smallest correlation with type of property appartement and type of sale under an option, which are not very relevant or distinctive factors for determining the price. This means that these types do not have much influence on the price and can be ignored or excluded from our analysis.\n",
    "\t\n",
    "Properties that need renovation tend to have lower prices than properties that are in good or new condition, because they require more work and investment from the buyer. Ground floor properties may have less privacy, security, or view than properties on higher floors, which may reduce their appeal and value."
   ]
  }
 ],
 "metadata": {
  "kernelspec": {
   "display_name": "data_visualization_env",
   "language": "python",
   "name": "python3"
  },
  "language_info": {
   "codemirror_mode": {
    "name": "ipython",
    "version": 3
   },
   "file_extension": ".py",
   "mimetype": "text/x-python",
   "name": "python",
   "nbconvert_exporter": "python",
   "pygments_lexer": "ipython3",
   "version": "3.11.4"
  },
  "orig_nbformat": 4
 },
 "nbformat": 4,
 "nbformat_minor": 2
}
